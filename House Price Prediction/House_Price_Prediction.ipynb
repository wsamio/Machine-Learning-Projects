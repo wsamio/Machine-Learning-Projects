{
  "nbformat": 4,
  "nbformat_minor": 0,
  "metadata": {
    "colab": {
      "provenance": []
    },
    "kernelspec": {
      "name": "python3",
      "display_name": "Python 3"
    },
    "language_info": {
      "name": "python"
    }
  },
  "cells": [
    {
      "cell_type": "code",
      "execution_count": 373,
      "metadata": {
        "id": "vFFcfSUuHMLD"
      },
      "outputs": [],
      "source": [
        "import numpy as np\n",
        "import pandas as pd\n",
        "import seaborn as sns\n",
        "import matplotlib.pyplot as plt\n",
        "import copy, math\n",
        "from sklearn.metrics import accuracy_score"
      ]
    },
    {
      "cell_type": "code",
      "source": [
        "df = pd.read_csv(\"/content/train.csv\")\n",
        "df_test = pd.read_csv(\"/content/test.csv\")"
      ],
      "metadata": {
        "id": "1GNJrWTLHbuT"
      },
      "execution_count": 374,
      "outputs": []
    },
    {
      "cell_type": "code",
      "source": [
        "df.head(5)"
      ],
      "metadata": {
        "colab": {
          "base_uri": "https://localhost:8080/",
          "height": 206
        },
        "id": "7q2mG9rrHhh3",
        "outputId": "c92e83ae-dfd6-4a15-8736-19080e27efc7"
      },
      "execution_count": 375,
      "outputs": [
        {
          "output_type": "execute_result",
          "data": {
            "text/plain": [
              "   beds  baths    size size_units  lot_size lot_size_units  zip_code  \\\n",
              "0     3    2.5  2590.0       sqft   6000.00           sqft     98144   \n",
              "1     4    2.0  2240.0       sqft      0.31           acre     98106   \n",
              "2     4    3.0  2040.0       sqft   3783.00           sqft     98107   \n",
              "3     4    3.0  3800.0       sqft   5175.00           sqft     98199   \n",
              "4     2    2.0  1042.0       sqft       NaN            NaN     98102   \n",
              "\n",
              "       price  \n",
              "0   795000.0  \n",
              "1   915000.0  \n",
              "2   950000.0  \n",
              "3  1950000.0  \n",
              "4   950000.0  "
            ],
            "text/html": [
              "\n",
              "  <div id=\"df-be68bbe2-5025-496f-97d6-197f4ec18f3e\">\n",
              "    <div class=\"colab-df-container\">\n",
              "      <div>\n",
              "<style scoped>\n",
              "    .dataframe tbody tr th:only-of-type {\n",
              "        vertical-align: middle;\n",
              "    }\n",
              "\n",
              "    .dataframe tbody tr th {\n",
              "        vertical-align: top;\n",
              "    }\n",
              "\n",
              "    .dataframe thead th {\n",
              "        text-align: right;\n",
              "    }\n",
              "</style>\n",
              "<table border=\"1\" class=\"dataframe\">\n",
              "  <thead>\n",
              "    <tr style=\"text-align: right;\">\n",
              "      <th></th>\n",
              "      <th>beds</th>\n",
              "      <th>baths</th>\n",
              "      <th>size</th>\n",
              "      <th>size_units</th>\n",
              "      <th>lot_size</th>\n",
              "      <th>lot_size_units</th>\n",
              "      <th>zip_code</th>\n",
              "      <th>price</th>\n",
              "    </tr>\n",
              "  </thead>\n",
              "  <tbody>\n",
              "    <tr>\n",
              "      <th>0</th>\n",
              "      <td>3</td>\n",
              "      <td>2.5</td>\n",
              "      <td>2590.0</td>\n",
              "      <td>sqft</td>\n",
              "      <td>6000.00</td>\n",
              "      <td>sqft</td>\n",
              "      <td>98144</td>\n",
              "      <td>795000.0</td>\n",
              "    </tr>\n",
              "    <tr>\n",
              "      <th>1</th>\n",
              "      <td>4</td>\n",
              "      <td>2.0</td>\n",
              "      <td>2240.0</td>\n",
              "      <td>sqft</td>\n",
              "      <td>0.31</td>\n",
              "      <td>acre</td>\n",
              "      <td>98106</td>\n",
              "      <td>915000.0</td>\n",
              "    </tr>\n",
              "    <tr>\n",
              "      <th>2</th>\n",
              "      <td>4</td>\n",
              "      <td>3.0</td>\n",
              "      <td>2040.0</td>\n",
              "      <td>sqft</td>\n",
              "      <td>3783.00</td>\n",
              "      <td>sqft</td>\n",
              "      <td>98107</td>\n",
              "      <td>950000.0</td>\n",
              "    </tr>\n",
              "    <tr>\n",
              "      <th>3</th>\n",
              "      <td>4</td>\n",
              "      <td>3.0</td>\n",
              "      <td>3800.0</td>\n",
              "      <td>sqft</td>\n",
              "      <td>5175.00</td>\n",
              "      <td>sqft</td>\n",
              "      <td>98199</td>\n",
              "      <td>1950000.0</td>\n",
              "    </tr>\n",
              "    <tr>\n",
              "      <th>4</th>\n",
              "      <td>2</td>\n",
              "      <td>2.0</td>\n",
              "      <td>1042.0</td>\n",
              "      <td>sqft</td>\n",
              "      <td>NaN</td>\n",
              "      <td>NaN</td>\n",
              "      <td>98102</td>\n",
              "      <td>950000.0</td>\n",
              "    </tr>\n",
              "  </tbody>\n",
              "</table>\n",
              "</div>\n",
              "      <button class=\"colab-df-convert\" onclick=\"convertToInteractive('df-be68bbe2-5025-496f-97d6-197f4ec18f3e')\"\n",
              "              title=\"Convert this dataframe to an interactive table.\"\n",
              "              style=\"display:none;\">\n",
              "        \n",
              "  <svg xmlns=\"http://www.w3.org/2000/svg\" height=\"24px\"viewBox=\"0 0 24 24\"\n",
              "       width=\"24px\">\n",
              "    <path d=\"M0 0h24v24H0V0z\" fill=\"none\"/>\n",
              "    <path d=\"M18.56 5.44l.94 2.06.94-2.06 2.06-.94-2.06-.94-.94-2.06-.94 2.06-2.06.94zm-11 1L8.5 8.5l.94-2.06 2.06-.94-2.06-.94L8.5 2.5l-.94 2.06-2.06.94zm10 10l.94 2.06.94-2.06 2.06-.94-2.06-.94-.94-2.06-.94 2.06-2.06.94z\"/><path d=\"M17.41 7.96l-1.37-1.37c-.4-.4-.92-.59-1.43-.59-.52 0-1.04.2-1.43.59L10.3 9.45l-7.72 7.72c-.78.78-.78 2.05 0 2.83L4 21.41c.39.39.9.59 1.41.59.51 0 1.02-.2 1.41-.59l7.78-7.78 2.81-2.81c.8-.78.8-2.07 0-2.86zM5.41 20L4 18.59l7.72-7.72 1.47 1.35L5.41 20z\"/>\n",
              "  </svg>\n",
              "      </button>\n",
              "      \n",
              "  <style>\n",
              "    .colab-df-container {\n",
              "      display:flex;\n",
              "      flex-wrap:wrap;\n",
              "      gap: 12px;\n",
              "    }\n",
              "\n",
              "    .colab-df-convert {\n",
              "      background-color: #E8F0FE;\n",
              "      border: none;\n",
              "      border-radius: 50%;\n",
              "      cursor: pointer;\n",
              "      display: none;\n",
              "      fill: #1967D2;\n",
              "      height: 32px;\n",
              "      padding: 0 0 0 0;\n",
              "      width: 32px;\n",
              "    }\n",
              "\n",
              "    .colab-df-convert:hover {\n",
              "      background-color: #E2EBFA;\n",
              "      box-shadow: 0px 1px 2px rgba(60, 64, 67, 0.3), 0px 1px 3px 1px rgba(60, 64, 67, 0.15);\n",
              "      fill: #174EA6;\n",
              "    }\n",
              "\n",
              "    [theme=dark] .colab-df-convert {\n",
              "      background-color: #3B4455;\n",
              "      fill: #D2E3FC;\n",
              "    }\n",
              "\n",
              "    [theme=dark] .colab-df-convert:hover {\n",
              "      background-color: #434B5C;\n",
              "      box-shadow: 0px 1px 3px 1px rgba(0, 0, 0, 0.15);\n",
              "      filter: drop-shadow(0px 1px 2px rgba(0, 0, 0, 0.3));\n",
              "      fill: #FFFFFF;\n",
              "    }\n",
              "  </style>\n",
              "\n",
              "      <script>\n",
              "        const buttonEl =\n",
              "          document.querySelector('#df-be68bbe2-5025-496f-97d6-197f4ec18f3e button.colab-df-convert');\n",
              "        buttonEl.style.display =\n",
              "          google.colab.kernel.accessAllowed ? 'block' : 'none';\n",
              "\n",
              "        async function convertToInteractive(key) {\n",
              "          const element = document.querySelector('#df-be68bbe2-5025-496f-97d6-197f4ec18f3e');\n",
              "          const dataTable =\n",
              "            await google.colab.kernel.invokeFunction('convertToInteractive',\n",
              "                                                     [key], {});\n",
              "          if (!dataTable) return;\n",
              "\n",
              "          const docLinkHtml = 'Like what you see? Visit the ' +\n",
              "            '<a target=\"_blank\" href=https://colab.research.google.com/notebooks/data_table.ipynb>data table notebook</a>'\n",
              "            + ' to learn more about interactive tables.';\n",
              "          element.innerHTML = '';\n",
              "          dataTable['output_type'] = 'display_data';\n",
              "          await google.colab.output.renderOutput(dataTable, element);\n",
              "          const docLink = document.createElement('div');\n",
              "          docLink.innerHTML = docLinkHtml;\n",
              "          element.appendChild(docLink);\n",
              "        }\n",
              "      </script>\n",
              "    </div>\n",
              "  </div>\n",
              "  "
            ]
          },
          "metadata": {},
          "execution_count": 375
        }
      ]
    },
    {
      "cell_type": "code",
      "source": [
        "df.dtypes"
      ],
      "metadata": {
        "colab": {
          "base_uri": "https://localhost:8080/"
        },
        "id": "3NnuDrrhPUnI",
        "outputId": "5c2fd071-4f36-4a88-f921-bcc6c75b724f"
      },
      "execution_count": 376,
      "outputs": [
        {
          "output_type": "execute_result",
          "data": {
            "text/plain": [
              "beds                int64\n",
              "baths             float64\n",
              "size              float64\n",
              "size_units         object\n",
              "lot_size          float64\n",
              "lot_size_units     object\n",
              "zip_code            int64\n",
              "price             float64\n",
              "dtype: object"
            ]
          },
          "metadata": {},
          "execution_count": 376
        }
      ]
    },
    {
      "cell_type": "code",
      "source": [
        "df.describe()"
      ],
      "metadata": {
        "colab": {
          "base_uri": "https://localhost:8080/",
          "height": 300
        },
        "id": "H66DTio_Pryt",
        "outputId": "941f1385-f533-40c9-ff36-92021f1b1450"
      },
      "execution_count": 377,
      "outputs": [
        {
          "output_type": "execute_result",
          "data": {
            "text/plain": [
              "              beds        baths          size     lot_size      zip_code  \\\n",
              "count  2016.000000  2016.000000   2016.000000  1669.000000   2016.000000   \n",
              "mean      2.857639     2.159970   1735.740575  3871.059694  98123.638889   \n",
              "std       1.255092     1.002023    920.132591  2719.402066     22.650819   \n",
              "min       1.000000     0.500000    250.000000     0.230000  98101.000000   \n",
              "25%       2.000000     1.500000   1068.750000  1252.000000  98108.000000   \n",
              "50%       3.000000     2.000000   1560.000000  4000.000000  98117.000000   \n",
              "75%       4.000000     2.500000   2222.500000  6000.000000  98126.000000   \n",
              "max      15.000000     9.000000  11010.000000  9998.000000  98199.000000   \n",
              "\n",
              "              price  \n",
              "count  2.016000e+03  \n",
              "mean   9.636252e+05  \n",
              "std    9.440954e+05  \n",
              "min    1.590000e+05  \n",
              "25%    6.017500e+05  \n",
              "50%    8.000000e+05  \n",
              "75%    1.105250e+06  \n",
              "max    2.500000e+07  "
            ],
            "text/html": [
              "\n",
              "  <div id=\"df-d7a81553-33a7-46c5-8d87-40b64e23f36e\">\n",
              "    <div class=\"colab-df-container\">\n",
              "      <div>\n",
              "<style scoped>\n",
              "    .dataframe tbody tr th:only-of-type {\n",
              "        vertical-align: middle;\n",
              "    }\n",
              "\n",
              "    .dataframe tbody tr th {\n",
              "        vertical-align: top;\n",
              "    }\n",
              "\n",
              "    .dataframe thead th {\n",
              "        text-align: right;\n",
              "    }\n",
              "</style>\n",
              "<table border=\"1\" class=\"dataframe\">\n",
              "  <thead>\n",
              "    <tr style=\"text-align: right;\">\n",
              "      <th></th>\n",
              "      <th>beds</th>\n",
              "      <th>baths</th>\n",
              "      <th>size</th>\n",
              "      <th>lot_size</th>\n",
              "      <th>zip_code</th>\n",
              "      <th>price</th>\n",
              "    </tr>\n",
              "  </thead>\n",
              "  <tbody>\n",
              "    <tr>\n",
              "      <th>count</th>\n",
              "      <td>2016.000000</td>\n",
              "      <td>2016.000000</td>\n",
              "      <td>2016.000000</td>\n",
              "      <td>1669.000000</td>\n",
              "      <td>2016.000000</td>\n",
              "      <td>2.016000e+03</td>\n",
              "    </tr>\n",
              "    <tr>\n",
              "      <th>mean</th>\n",
              "      <td>2.857639</td>\n",
              "      <td>2.159970</td>\n",
              "      <td>1735.740575</td>\n",
              "      <td>3871.059694</td>\n",
              "      <td>98123.638889</td>\n",
              "      <td>9.636252e+05</td>\n",
              "    </tr>\n",
              "    <tr>\n",
              "      <th>std</th>\n",
              "      <td>1.255092</td>\n",
              "      <td>1.002023</td>\n",
              "      <td>920.132591</td>\n",
              "      <td>2719.402066</td>\n",
              "      <td>22.650819</td>\n",
              "      <td>9.440954e+05</td>\n",
              "    </tr>\n",
              "    <tr>\n",
              "      <th>min</th>\n",
              "      <td>1.000000</td>\n",
              "      <td>0.500000</td>\n",
              "      <td>250.000000</td>\n",
              "      <td>0.230000</td>\n",
              "      <td>98101.000000</td>\n",
              "      <td>1.590000e+05</td>\n",
              "    </tr>\n",
              "    <tr>\n",
              "      <th>25%</th>\n",
              "      <td>2.000000</td>\n",
              "      <td>1.500000</td>\n",
              "      <td>1068.750000</td>\n",
              "      <td>1252.000000</td>\n",
              "      <td>98108.000000</td>\n",
              "      <td>6.017500e+05</td>\n",
              "    </tr>\n",
              "    <tr>\n",
              "      <th>50%</th>\n",
              "      <td>3.000000</td>\n",
              "      <td>2.000000</td>\n",
              "      <td>1560.000000</td>\n",
              "      <td>4000.000000</td>\n",
              "      <td>98117.000000</td>\n",
              "      <td>8.000000e+05</td>\n",
              "    </tr>\n",
              "    <tr>\n",
              "      <th>75%</th>\n",
              "      <td>4.000000</td>\n",
              "      <td>2.500000</td>\n",
              "      <td>2222.500000</td>\n",
              "      <td>6000.000000</td>\n",
              "      <td>98126.000000</td>\n",
              "      <td>1.105250e+06</td>\n",
              "    </tr>\n",
              "    <tr>\n",
              "      <th>max</th>\n",
              "      <td>15.000000</td>\n",
              "      <td>9.000000</td>\n",
              "      <td>11010.000000</td>\n",
              "      <td>9998.000000</td>\n",
              "      <td>98199.000000</td>\n",
              "      <td>2.500000e+07</td>\n",
              "    </tr>\n",
              "  </tbody>\n",
              "</table>\n",
              "</div>\n",
              "      <button class=\"colab-df-convert\" onclick=\"convertToInteractive('df-d7a81553-33a7-46c5-8d87-40b64e23f36e')\"\n",
              "              title=\"Convert this dataframe to an interactive table.\"\n",
              "              style=\"display:none;\">\n",
              "        \n",
              "  <svg xmlns=\"http://www.w3.org/2000/svg\" height=\"24px\"viewBox=\"0 0 24 24\"\n",
              "       width=\"24px\">\n",
              "    <path d=\"M0 0h24v24H0V0z\" fill=\"none\"/>\n",
              "    <path d=\"M18.56 5.44l.94 2.06.94-2.06 2.06-.94-2.06-.94-.94-2.06-.94 2.06-2.06.94zm-11 1L8.5 8.5l.94-2.06 2.06-.94-2.06-.94L8.5 2.5l-.94 2.06-2.06.94zm10 10l.94 2.06.94-2.06 2.06-.94-2.06-.94-.94-2.06-.94 2.06-2.06.94z\"/><path d=\"M17.41 7.96l-1.37-1.37c-.4-.4-.92-.59-1.43-.59-.52 0-1.04.2-1.43.59L10.3 9.45l-7.72 7.72c-.78.78-.78 2.05 0 2.83L4 21.41c.39.39.9.59 1.41.59.51 0 1.02-.2 1.41-.59l7.78-7.78 2.81-2.81c.8-.78.8-2.07 0-2.86zM5.41 20L4 18.59l7.72-7.72 1.47 1.35L5.41 20z\"/>\n",
              "  </svg>\n",
              "      </button>\n",
              "      \n",
              "  <style>\n",
              "    .colab-df-container {\n",
              "      display:flex;\n",
              "      flex-wrap:wrap;\n",
              "      gap: 12px;\n",
              "    }\n",
              "\n",
              "    .colab-df-convert {\n",
              "      background-color: #E8F0FE;\n",
              "      border: none;\n",
              "      border-radius: 50%;\n",
              "      cursor: pointer;\n",
              "      display: none;\n",
              "      fill: #1967D2;\n",
              "      height: 32px;\n",
              "      padding: 0 0 0 0;\n",
              "      width: 32px;\n",
              "    }\n",
              "\n",
              "    .colab-df-convert:hover {\n",
              "      background-color: #E2EBFA;\n",
              "      box-shadow: 0px 1px 2px rgba(60, 64, 67, 0.3), 0px 1px 3px 1px rgba(60, 64, 67, 0.15);\n",
              "      fill: #174EA6;\n",
              "    }\n",
              "\n",
              "    [theme=dark] .colab-df-convert {\n",
              "      background-color: #3B4455;\n",
              "      fill: #D2E3FC;\n",
              "    }\n",
              "\n",
              "    [theme=dark] .colab-df-convert:hover {\n",
              "      background-color: #434B5C;\n",
              "      box-shadow: 0px 1px 3px 1px rgba(0, 0, 0, 0.15);\n",
              "      filter: drop-shadow(0px 1px 2px rgba(0, 0, 0, 0.3));\n",
              "      fill: #FFFFFF;\n",
              "    }\n",
              "  </style>\n",
              "\n",
              "      <script>\n",
              "        const buttonEl =\n",
              "          document.querySelector('#df-d7a81553-33a7-46c5-8d87-40b64e23f36e button.colab-df-convert');\n",
              "        buttonEl.style.display =\n",
              "          google.colab.kernel.accessAllowed ? 'block' : 'none';\n",
              "\n",
              "        async function convertToInteractive(key) {\n",
              "          const element = document.querySelector('#df-d7a81553-33a7-46c5-8d87-40b64e23f36e');\n",
              "          const dataTable =\n",
              "            await google.colab.kernel.invokeFunction('convertToInteractive',\n",
              "                                                     [key], {});\n",
              "          if (!dataTable) return;\n",
              "\n",
              "          const docLinkHtml = 'Like what you see? Visit the ' +\n",
              "            '<a target=\"_blank\" href=https://colab.research.google.com/notebooks/data_table.ipynb>data table notebook</a>'\n",
              "            + ' to learn more about interactive tables.';\n",
              "          element.innerHTML = '';\n",
              "          dataTable['output_type'] = 'display_data';\n",
              "          await google.colab.output.renderOutput(dataTable, element);\n",
              "          const docLink = document.createElement('div');\n",
              "          docLink.innerHTML = docLinkHtml;\n",
              "          element.appendChild(docLink);\n",
              "        }\n",
              "      </script>\n",
              "    </div>\n",
              "  </div>\n",
              "  "
            ]
          },
          "metadata": {},
          "execution_count": 377
        }
      ]
    },
    {
      "cell_type": "code",
      "source": [
        "df.isnull().sum()"
      ],
      "metadata": {
        "colab": {
          "base_uri": "https://localhost:8080/"
        },
        "id": "TXZG0tMtHxvu",
        "outputId": "01bc8435-141b-4ea4-94f3-d1745f1fdf7d"
      },
      "execution_count": 378,
      "outputs": [
        {
          "output_type": "execute_result",
          "data": {
            "text/plain": [
              "beds                0\n",
              "baths               0\n",
              "size                0\n",
              "size_units          0\n",
              "lot_size          347\n",
              "lot_size_units    347\n",
              "zip_code            0\n",
              "price               0\n",
              "dtype: int64"
            ]
          },
          "metadata": {},
          "execution_count": 378
        }
      ]
    },
    {
      "cell_type": "code",
      "source": [
        "df = df.drop('size_units', axis = 1)\n",
        "df_test = df_test.drop('size_units', axis = 1)"
      ],
      "metadata": {
        "id": "bhIQJXeGP86B"
      },
      "execution_count": 379,
      "outputs": []
    },
    {
      "cell_type": "code",
      "source": [
        "df = df.dropna()\n",
        "df_test = df_test.dropna()\n",
        "df.shape"
      ],
      "metadata": {
        "colab": {
          "base_uri": "https://localhost:8080/"
        },
        "id": "fPGXFmv5QFcb",
        "outputId": "8370e843-1409-49fd-da25-bf6615c6cd59"
      },
      "execution_count": 380,
      "outputs": [
        {
          "output_type": "execute_result",
          "data": {
            "text/plain": [
              "(1669, 7)"
            ]
          },
          "metadata": {},
          "execution_count": 380
        }
      ]
    },
    {
      "cell_type": "code",
      "source": [
        "print(df.isnull().sum())\n",
        "print(df_test.isnull().sum())"
      ],
      "metadata": {
        "colab": {
          "base_uri": "https://localhost:8080/"
        },
        "id": "fIJlv8hsr73u",
        "outputId": "57e29c8f-ad73-4f9c-910a-45c730c70e93"
      },
      "execution_count": 381,
      "outputs": [
        {
          "output_type": "stream",
          "name": "stdout",
          "text": [
            "beds              0\n",
            "baths             0\n",
            "size              0\n",
            "lot_size          0\n",
            "lot_size_units    0\n",
            "zip_code          0\n",
            "price             0\n",
            "dtype: int64\n",
            "beds              0\n",
            "baths             0\n",
            "size              0\n",
            "lot_size          0\n",
            "lot_size_units    0\n",
            "zip_code          0\n",
            "price             0\n",
            "dtype: int64\n"
          ]
        }
      ]
    },
    {
      "cell_type": "code",
      "source": [
        "m, n = df.shape\n",
        "for i in range (n):\n",
        "  if df.iat[i,4] == \"acre\":\n",
        "    df.iat[i, 3] = df.iloc[i, 3] * 43560\n",
        "    df_test.iat[i, 3] = df_test.iloc[i, 3] * 43560"
      ],
      "metadata": {
        "id": "9WDtfOCsTWsy"
      },
      "execution_count": 382,
      "outputs": []
    },
    {
      "cell_type": "code",
      "source": [
        "df = df.drop('lot_size_units', axis = 1)\n",
        "df = df.drop('zip_code', axis = 1)\n",
        "\n",
        "df_test = df_test.drop('lot_size_units', axis = 1)\n",
        "df_test = df_test.drop('zip_code', axis = 1)\n",
        "\n",
        "df.head(3)"
      ],
      "metadata": {
        "colab": {
          "base_uri": "https://localhost:8080/",
          "height": 143
        },
        "id": "mHRgntkLXGL4",
        "outputId": "76e2366e-9c91-487f-d190-66977b09526e"
      },
      "execution_count": 383,
      "outputs": [
        {
          "output_type": "execute_result",
          "data": {
            "text/plain": [
              "   beds  baths    size  lot_size     price\n",
              "0     3    2.5  2590.0    6000.0  795000.0\n",
              "1     4    2.0  2240.0   13503.6  915000.0\n",
              "2     4    3.0  2040.0    3783.0  950000.0"
            ],
            "text/html": [
              "\n",
              "  <div id=\"df-dcc897bd-621b-4908-bdaf-a1190f932641\">\n",
              "    <div class=\"colab-df-container\">\n",
              "      <div>\n",
              "<style scoped>\n",
              "    .dataframe tbody tr th:only-of-type {\n",
              "        vertical-align: middle;\n",
              "    }\n",
              "\n",
              "    .dataframe tbody tr th {\n",
              "        vertical-align: top;\n",
              "    }\n",
              "\n",
              "    .dataframe thead th {\n",
              "        text-align: right;\n",
              "    }\n",
              "</style>\n",
              "<table border=\"1\" class=\"dataframe\">\n",
              "  <thead>\n",
              "    <tr style=\"text-align: right;\">\n",
              "      <th></th>\n",
              "      <th>beds</th>\n",
              "      <th>baths</th>\n",
              "      <th>size</th>\n",
              "      <th>lot_size</th>\n",
              "      <th>price</th>\n",
              "    </tr>\n",
              "  </thead>\n",
              "  <tbody>\n",
              "    <tr>\n",
              "      <th>0</th>\n",
              "      <td>3</td>\n",
              "      <td>2.5</td>\n",
              "      <td>2590.0</td>\n",
              "      <td>6000.0</td>\n",
              "      <td>795000.0</td>\n",
              "    </tr>\n",
              "    <tr>\n",
              "      <th>1</th>\n",
              "      <td>4</td>\n",
              "      <td>2.0</td>\n",
              "      <td>2240.0</td>\n",
              "      <td>13503.6</td>\n",
              "      <td>915000.0</td>\n",
              "    </tr>\n",
              "    <tr>\n",
              "      <th>2</th>\n",
              "      <td>4</td>\n",
              "      <td>3.0</td>\n",
              "      <td>2040.0</td>\n",
              "      <td>3783.0</td>\n",
              "      <td>950000.0</td>\n",
              "    </tr>\n",
              "  </tbody>\n",
              "</table>\n",
              "</div>\n",
              "      <button class=\"colab-df-convert\" onclick=\"convertToInteractive('df-dcc897bd-621b-4908-bdaf-a1190f932641')\"\n",
              "              title=\"Convert this dataframe to an interactive table.\"\n",
              "              style=\"display:none;\">\n",
              "        \n",
              "  <svg xmlns=\"http://www.w3.org/2000/svg\" height=\"24px\"viewBox=\"0 0 24 24\"\n",
              "       width=\"24px\">\n",
              "    <path d=\"M0 0h24v24H0V0z\" fill=\"none\"/>\n",
              "    <path d=\"M18.56 5.44l.94 2.06.94-2.06 2.06-.94-2.06-.94-.94-2.06-.94 2.06-2.06.94zm-11 1L8.5 8.5l.94-2.06 2.06-.94-2.06-.94L8.5 2.5l-.94 2.06-2.06.94zm10 10l.94 2.06.94-2.06 2.06-.94-2.06-.94-.94-2.06-.94 2.06-2.06.94z\"/><path d=\"M17.41 7.96l-1.37-1.37c-.4-.4-.92-.59-1.43-.59-.52 0-1.04.2-1.43.59L10.3 9.45l-7.72 7.72c-.78.78-.78 2.05 0 2.83L4 21.41c.39.39.9.59 1.41.59.51 0 1.02-.2 1.41-.59l7.78-7.78 2.81-2.81c.8-.78.8-2.07 0-2.86zM5.41 20L4 18.59l7.72-7.72 1.47 1.35L5.41 20z\"/>\n",
              "  </svg>\n",
              "      </button>\n",
              "      \n",
              "  <style>\n",
              "    .colab-df-container {\n",
              "      display:flex;\n",
              "      flex-wrap:wrap;\n",
              "      gap: 12px;\n",
              "    }\n",
              "\n",
              "    .colab-df-convert {\n",
              "      background-color: #E8F0FE;\n",
              "      border: none;\n",
              "      border-radius: 50%;\n",
              "      cursor: pointer;\n",
              "      display: none;\n",
              "      fill: #1967D2;\n",
              "      height: 32px;\n",
              "      padding: 0 0 0 0;\n",
              "      width: 32px;\n",
              "    }\n",
              "\n",
              "    .colab-df-convert:hover {\n",
              "      background-color: #E2EBFA;\n",
              "      box-shadow: 0px 1px 2px rgba(60, 64, 67, 0.3), 0px 1px 3px 1px rgba(60, 64, 67, 0.15);\n",
              "      fill: #174EA6;\n",
              "    }\n",
              "\n",
              "    [theme=dark] .colab-df-convert {\n",
              "      background-color: #3B4455;\n",
              "      fill: #D2E3FC;\n",
              "    }\n",
              "\n",
              "    [theme=dark] .colab-df-convert:hover {\n",
              "      background-color: #434B5C;\n",
              "      box-shadow: 0px 1px 3px 1px rgba(0, 0, 0, 0.15);\n",
              "      filter: drop-shadow(0px 1px 2px rgba(0, 0, 0, 0.3));\n",
              "      fill: #FFFFFF;\n",
              "    }\n",
              "  </style>\n",
              "\n",
              "      <script>\n",
              "        const buttonEl =\n",
              "          document.querySelector('#df-dcc897bd-621b-4908-bdaf-a1190f932641 button.colab-df-convert');\n",
              "        buttonEl.style.display =\n",
              "          google.colab.kernel.accessAllowed ? 'block' : 'none';\n",
              "\n",
              "        async function convertToInteractive(key) {\n",
              "          const element = document.querySelector('#df-dcc897bd-621b-4908-bdaf-a1190f932641');\n",
              "          const dataTable =\n",
              "            await google.colab.kernel.invokeFunction('convertToInteractive',\n",
              "                                                     [key], {});\n",
              "          if (!dataTable) return;\n",
              "\n",
              "          const docLinkHtml = 'Like what you see? Visit the ' +\n",
              "            '<a target=\"_blank\" href=https://colab.research.google.com/notebooks/data_table.ipynb>data table notebook</a>'\n",
              "            + ' to learn more about interactive tables.';\n",
              "          element.innerHTML = '';\n",
              "          dataTable['output_type'] = 'display_data';\n",
              "          await google.colab.output.renderOutput(dataTable, element);\n",
              "          const docLink = document.createElement('div');\n",
              "          docLink.innerHTML = docLinkHtml;\n",
              "          element.appendChild(docLink);\n",
              "        }\n",
              "      </script>\n",
              "    </div>\n",
              "  </div>\n",
              "  "
            ]
          },
          "metadata": {},
          "execution_count": 383
        }
      ]
    },
    {
      "cell_type": "code",
      "source": [
        "max_nums = [df['beds'].max(), df['baths'].max(), df['size'].max(), df['lot_size'].max(), df['price'].max()]\n",
        "max_nums_t = [df_test['beds'].max(), df_test['baths'].max(), df_test['size'].max(), df_test['lot_size'].max(), df_test['price'].max()]\n",
        "\n",
        "m, n = df.shape\n",
        "o, p = df_test.shape\n",
        "\n",
        "for i in range (m):\n",
        "  for j in range (n):\n",
        "    '''\n",
        "    if j == n - 1:\n",
        "      df.iat[i, j] = df.iloc[i, j] / 1000.0\n",
        "    '''\n",
        "    df.iat[i, j] = df.iloc[i, j] / max_nums[j]\n",
        "\n",
        "for i in range (o):\n",
        "  for j in range (p):\n",
        "    df_test.iat[i, j] = df_test.iloc[i, j] / max_nums_t[j]\n",
        "\n",
        "df.head(3)"
      ],
      "metadata": {
        "colab": {
          "base_uri": "https://localhost:8080/",
          "height": 143
        },
        "id": "YJnzZXO3byg-",
        "outputId": "a33ce171-766b-451d-c7b5-0bf7d3a5801b"
      },
      "execution_count": 384,
      "outputs": [
        {
          "output_type": "execute_result",
          "data": {
            "text/plain": [
              "       beds     baths      size  lot_size   price\n",
              "0  0.200000  0.277778  0.235241  0.137741  0.0318\n",
              "1  0.266667  0.222222  0.203451  0.310000  0.0366\n",
              "2  0.266667  0.333333  0.185286  0.086846  0.0380"
            ],
            "text/html": [
              "\n",
              "  <div id=\"df-85c0b994-6144-4a87-8bb5-4adc03d9eeef\">\n",
              "    <div class=\"colab-df-container\">\n",
              "      <div>\n",
              "<style scoped>\n",
              "    .dataframe tbody tr th:only-of-type {\n",
              "        vertical-align: middle;\n",
              "    }\n",
              "\n",
              "    .dataframe tbody tr th {\n",
              "        vertical-align: top;\n",
              "    }\n",
              "\n",
              "    .dataframe thead th {\n",
              "        text-align: right;\n",
              "    }\n",
              "</style>\n",
              "<table border=\"1\" class=\"dataframe\">\n",
              "  <thead>\n",
              "    <tr style=\"text-align: right;\">\n",
              "      <th></th>\n",
              "      <th>beds</th>\n",
              "      <th>baths</th>\n",
              "      <th>size</th>\n",
              "      <th>lot_size</th>\n",
              "      <th>price</th>\n",
              "    </tr>\n",
              "  </thead>\n",
              "  <tbody>\n",
              "    <tr>\n",
              "      <th>0</th>\n",
              "      <td>0.200000</td>\n",
              "      <td>0.277778</td>\n",
              "      <td>0.235241</td>\n",
              "      <td>0.137741</td>\n",
              "      <td>0.0318</td>\n",
              "    </tr>\n",
              "    <tr>\n",
              "      <th>1</th>\n",
              "      <td>0.266667</td>\n",
              "      <td>0.222222</td>\n",
              "      <td>0.203451</td>\n",
              "      <td>0.310000</td>\n",
              "      <td>0.0366</td>\n",
              "    </tr>\n",
              "    <tr>\n",
              "      <th>2</th>\n",
              "      <td>0.266667</td>\n",
              "      <td>0.333333</td>\n",
              "      <td>0.185286</td>\n",
              "      <td>0.086846</td>\n",
              "      <td>0.0380</td>\n",
              "    </tr>\n",
              "  </tbody>\n",
              "</table>\n",
              "</div>\n",
              "      <button class=\"colab-df-convert\" onclick=\"convertToInteractive('df-85c0b994-6144-4a87-8bb5-4adc03d9eeef')\"\n",
              "              title=\"Convert this dataframe to an interactive table.\"\n",
              "              style=\"display:none;\">\n",
              "        \n",
              "  <svg xmlns=\"http://www.w3.org/2000/svg\" height=\"24px\"viewBox=\"0 0 24 24\"\n",
              "       width=\"24px\">\n",
              "    <path d=\"M0 0h24v24H0V0z\" fill=\"none\"/>\n",
              "    <path d=\"M18.56 5.44l.94 2.06.94-2.06 2.06-.94-2.06-.94-.94-2.06-.94 2.06-2.06.94zm-11 1L8.5 8.5l.94-2.06 2.06-.94-2.06-.94L8.5 2.5l-.94 2.06-2.06.94zm10 10l.94 2.06.94-2.06 2.06-.94-2.06-.94-.94-2.06-.94 2.06-2.06.94z\"/><path d=\"M17.41 7.96l-1.37-1.37c-.4-.4-.92-.59-1.43-.59-.52 0-1.04.2-1.43.59L10.3 9.45l-7.72 7.72c-.78.78-.78 2.05 0 2.83L4 21.41c.39.39.9.59 1.41.59.51 0 1.02-.2 1.41-.59l7.78-7.78 2.81-2.81c.8-.78.8-2.07 0-2.86zM5.41 20L4 18.59l7.72-7.72 1.47 1.35L5.41 20z\"/>\n",
              "  </svg>\n",
              "      </button>\n",
              "      \n",
              "  <style>\n",
              "    .colab-df-container {\n",
              "      display:flex;\n",
              "      flex-wrap:wrap;\n",
              "      gap: 12px;\n",
              "    }\n",
              "\n",
              "    .colab-df-convert {\n",
              "      background-color: #E8F0FE;\n",
              "      border: none;\n",
              "      border-radius: 50%;\n",
              "      cursor: pointer;\n",
              "      display: none;\n",
              "      fill: #1967D2;\n",
              "      height: 32px;\n",
              "      padding: 0 0 0 0;\n",
              "      width: 32px;\n",
              "    }\n",
              "\n",
              "    .colab-df-convert:hover {\n",
              "      background-color: #E2EBFA;\n",
              "      box-shadow: 0px 1px 2px rgba(60, 64, 67, 0.3), 0px 1px 3px 1px rgba(60, 64, 67, 0.15);\n",
              "      fill: #174EA6;\n",
              "    }\n",
              "\n",
              "    [theme=dark] .colab-df-convert {\n",
              "      background-color: #3B4455;\n",
              "      fill: #D2E3FC;\n",
              "    }\n",
              "\n",
              "    [theme=dark] .colab-df-convert:hover {\n",
              "      background-color: #434B5C;\n",
              "      box-shadow: 0px 1px 3px 1px rgba(0, 0, 0, 0.15);\n",
              "      filter: drop-shadow(0px 1px 2px rgba(0, 0, 0, 0.3));\n",
              "      fill: #FFFFFF;\n",
              "    }\n",
              "  </style>\n",
              "\n",
              "      <script>\n",
              "        const buttonEl =\n",
              "          document.querySelector('#df-85c0b994-6144-4a87-8bb5-4adc03d9eeef button.colab-df-convert');\n",
              "        buttonEl.style.display =\n",
              "          google.colab.kernel.accessAllowed ? 'block' : 'none';\n",
              "\n",
              "        async function convertToInteractive(key) {\n",
              "          const element = document.querySelector('#df-85c0b994-6144-4a87-8bb5-4adc03d9eeef');\n",
              "          const dataTable =\n",
              "            await google.colab.kernel.invokeFunction('convertToInteractive',\n",
              "                                                     [key], {});\n",
              "          if (!dataTable) return;\n",
              "\n",
              "          const docLinkHtml = 'Like what you see? Visit the ' +\n",
              "            '<a target=\"_blank\" href=https://colab.research.google.com/notebooks/data_table.ipynb>data table notebook</a>'\n",
              "            + ' to learn more about interactive tables.';\n",
              "          element.innerHTML = '';\n",
              "          dataTable['output_type'] = 'display_data';\n",
              "          await google.colab.output.renderOutput(dataTable, element);\n",
              "          const docLink = document.createElement('div');\n",
              "          docLink.innerHTML = docLinkHtml;\n",
              "          element.appendChild(docLink);\n",
              "        }\n",
              "      </script>\n",
              "    </div>\n",
              "  </div>\n",
              "  "
            ]
          },
          "metadata": {},
          "execution_count": 384
        }
      ]
    },
    {
      "cell_type": "code",
      "source": [
        "correl = df.corr().round(2)\n",
        "plt.figure(figsize = (9,8))\n",
        "sns.heatmap(correl, annot = True, cmap = 'YlOrBr')"
      ],
      "metadata": {
        "id": "sQoFR1Z_H1YU",
        "colab": {
          "base_uri": "https://localhost:8080/",
          "height": 506
        },
        "outputId": "82e721c4-13fc-4488-8b7c-646dcb912ee5"
      },
      "execution_count": 385,
      "outputs": [
        {
          "output_type": "execute_result",
          "data": {
            "text/plain": [
              "<AxesSubplot:>"
            ]
          },
          "metadata": {},
          "execution_count": 385
        },
        {
          "output_type": "display_data",
          "data": {
            "text/plain": [
              "<Figure size 648x576 with 2 Axes>"
            ],
            "image/png": "[encoded data removed]"
          },
          "metadata": {
            "needs_background": "light"
          }
        }
      ]
    },
    {
      "cell_type": "code",
      "source": [
        "x_train = df.iloc[:, :-1]\n",
        "y_train = df.iloc[:, -1]\n",
        "\n",
        "x_test = df_test.iloc[:, :-1]\n",
        "y_test = df_test.iloc[:, -1]"
      ],
      "metadata": {
        "id": "ltGBGOoeYV7Y"
      },
      "execution_count": 386,
      "outputs": []
    },
    {
      "cell_type": "code",
      "source": [
        "x_train = np.array(x_train)\n",
        "y_train = np.array(y_train)\n",
        "\n",
        "x_test = np.array(x_test)\n",
        "y_test = np.array(y_test)"
      ],
      "metadata": {
        "id": "EfA2zaeYY-Wu"
      },
      "execution_count": 387,
      "outputs": []
    },
    {
      "cell_type": "code",
      "source": [
        "x_train.shape, y_train.shape"
      ],
      "metadata": {
        "colab": {
          "base_uri": "https://localhost:8080/"
        },
        "id": "yACb_DSdZBJz",
        "outputId": "b31e16a2-e74b-4979-cf1e-01bd5864759f"
      },
      "execution_count": 388,
      "outputs": [
        {
          "output_type": "execute_result",
          "data": {
            "text/plain": [
              "((1669, 4), (1669,))"
            ]
          },
          "metadata": {},
          "execution_count": 388
        }
      ]
    },
    {
      "cell_type": "code",
      "source": [
        "def compute_gradient(x, y, w, b):\n",
        "  m, n = x.shape\n",
        "  dj_w = np.zeros((n,))\n",
        "  dj_b = 0\n",
        "  \n",
        "  #m = rows, n = columns\n",
        "  for i in range (m):\n",
        "    err = (np.dot(w, x[i]) + b) - y[i]\n",
        "    for j in range (n):\n",
        "      dj_w[j] = dj_w[j] + err * x[i, j]\n",
        "    dj_b = dj_b + err\n",
        "  \n",
        "  dj_w = dj_w / m\n",
        "  dj_b = dj_b / m\n",
        "  return dj_w, dj_b"
      ],
      "metadata": {
        "id": "l6npFpQGZD4J"
      },
      "execution_count": 389,
      "outputs": []
    },
    {
      "cell_type": "code",
      "source": [
        "#testing if compute_gradient is working or not..\n",
        "m, n = x_train.shape\n",
        "w_in = np.zeros((n,))\n",
        "b_in = 0\n",
        "\n",
        "compute_gradient(x_train, y_train, w_in, b_in)"
      ],
      "metadata": {
        "colab": {
          "base_uri": "https://localhost:8080/"
        },
        "id": "VJXrMSKeaF-w",
        "outputId": "d2fd7737-76be-45c8-e83b-320e94f02a25"
      },
      "execution_count": 390,
      "outputs": [
        {
          "output_type": "execute_result",
          "data": {
            "text/plain": [
              "(array([-0.00939211, -0.01181614, -0.00849248, -0.00394686]),\n",
              " -0.041539008460155666)"
            ]
          },
          "metadata": {},
          "execution_count": 390
        }
      ]
    },
    {
      "cell_type": "code",
      "source": [
        "def compute_cost (x, y, w, b):\n",
        "  m = x.shape[0]\n",
        "  cost = 0.0\n",
        "  for i in range (m):\n",
        "    f_wb_i = np.dot(w, x[i]) + b\n",
        "    cost = cost + (f_wb_i - y[i]) ** 2\n",
        "  cost = cost / (2 * m)\n",
        "  return cost"
      ],
      "metadata": {
        "id": "h5wxJfvLY3X_"
      },
      "execution_count": 391,
      "outputs": []
    },
    {
      "cell_type": "code",
      "source": [
        "def gradient_descent(x, y, w_in, b_in, compute_gradient, compute_cost, alpha, num_iters):\n",
        "  w = copy.deepcopy(w_in)\n",
        "  b = b_in\n",
        "\n",
        "  J_history = []\n",
        "  iter_rec = []\n",
        "  for i in range (num_iters):\n",
        "    dj_w, dj_b = compute_gradient(x, y, w, b)\n",
        "    \n",
        "    #recording the cost history\n",
        "    if i % 3 == 0:\n",
        "      J_history.append(compute_cost(x, y, w, b))\n",
        "      iter_rec.append(i)\n",
        "\n",
        "    w = w - alpha * dj_w\n",
        "    b = b - alpha * dj_b\n",
        "  \n",
        "  return w, b, J_history, iter_rec"
      ],
      "metadata": {
        "id": "Th-BinHZaejZ"
      },
      "execution_count": 392,
      "outputs": []
    },
    {
      "cell_type": "code",
      "source": [
        "alpha = 0.01\n",
        "iterations = 1000\n",
        "final_w, final_b, J_history, iter_rec = gradient_descent(x_train, y_train, w_in, b_in, compute_gradient, compute_cost, alpha, iterations)\n",
        "print(final_w, final_b)"
      ],
      "metadata": {
        "colab": {
          "base_uri": "https://localhost:8080/"
        },
        "id": "jNuRAGQWbBA_",
        "outputId": "f8b49022-931a-4cab-b163-ea18a9af91f2"
      },
      "execution_count": 411,
      "outputs": [
        {
          "output_type": "stream",
          "name": "stdout",
          "text": [
            "[0.01219437 0.0175707  0.01692149 0.00460449] 0.031654461355786694\n"
          ]
        }
      ]
    },
    {
      "cell_type": "code",
      "source": [
        "plt.plot(iter_rec, J_history)\n",
        "plt.xlabel(\"Iteration\")\n",
        "plt.ylabel(\"Cost\")\n",
        "plt.show()"
      ],
      "metadata": {
        "colab": {
          "base_uri": "https://localhost:8080/",
          "height": 279
        },
        "id": "61aEgPPZlyRv",
        "outputId": "dd31e641-ef49-4528-9df0-9c74b79c0ea7"
      },
      "execution_count": 412,
      "outputs": [
        {
          "output_type": "display_data",
          "data": {
            "text/plain": [
              "<Figure size 432x288 with 1 Axes>"
            ],
            "image/png": "[encoded data removed]"
          },
          "metadata": {
            "needs_background": "light"
          }
        }
      ]
    },
    {
      "cell_type": "code",
      "source": [
        "train_cost = compute_cost(x_train, y_train, final_w, final_b)\n",
        "test_cost = compute_cost(x_test, y_test, final_w, final_b)\n",
        "\n",
        "print(f\"total cost on training data : {train_cost}\") \n",
        "print(f\"total cost on test data : {test_cost}\")"
      ],
      "metadata": {
        "colab": {
          "base_uri": "https://localhost:8080/"
        },
        "id": "fMawse37brXA",
        "outputId": "32257094-f57f-454c-a471-31c1f736c626"
      },
      "execution_count": 413,
      "outputs": [
        {
          "output_type": "stream",
          "name": "stdout",
          "text": [
            "total cost on training data : 0.0007653451251227924\n",
            "total cost on test data : 0.011712820699294827\n"
          ]
        }
      ]
    }
  ]
}
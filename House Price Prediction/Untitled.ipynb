{
 "cells": [
  {
   "cell_type": "markdown",
   "id": "ab22a317",
   "metadata": {},
   "source": [
    "# House Price Prediction Using Linear Regression"
   ]
  },
  {
   "cell_type": "markdown",
   "id": "00e74034",
   "metadata": {},
   "source": [
    "# Goals\n",
    "\n",
    "In this little project I will - \n",
    "   - Utilize the multiple variables routines\n",
    "   - Run Gradient Descent on a data set with multiple features\n",
    "   - Explore the impact of the learning rate *alpha* on gradient descent\n",
    "   - Improve performance of gradient descent by feature scaling using z-score normalization"
   ]
  },
  {
   "cell_type": "markdown",
   "id": "3bce6493",
   "metadata": {},
   "source": [
    "# Tools\n",
    "   - Numpy\n",
    "   - Matplotlib\n",
    "   - Pandas"
   ]
  },
  {
   "cell_type": "code",
   "execution_count": 38,
   "id": "cf12aa67",
   "metadata": {},
   "outputs": [],
   "source": [
    "import numpy as np\n",
    "import pandas as pd\n",
    "import matplotlib.pyplot as plt\n",
    "import copy, math\n",
    "plt.style.use('./deeplearning.mplstyle')"
   ]
  },
  {
   "cell_type": "markdown",
   "id": "4fc4eb30",
   "metadata": {},
   "source": [
    "# Problem Statement\n",
    "\n",
    "The training data set contains many examples with 7 features (beds, baths, size, size_units, lot_size, lot_size_units and zip_code) shown in the table below.\n",
    "\n",
    "I would like to build a linear regression model using these values so we can then predict the price for other houses - say,  houses from the test dataset."
   ]
  },
  {
   "cell_type": "markdown",
   "id": "64107d5a",
   "metadata": {},
   "source": [
    "# Dataset"
   ]
  },
  {
   "cell_type": "code",
   "execution_count": 39,
   "id": "eb93aa1c",
   "metadata": {},
   "outputs": [
    {
     "data": {
      "text/html": [
       "<div>\n",
       "<style scoped>\n",
       "    .dataframe tbody tr th:only-of-type {\n",
       "        vertical-align: middle;\n",
       "    }\n",
       "\n",
       "    .dataframe tbody tr th {\n",
       "        vertical-align: top;\n",
       "    }\n",
       "\n",
       "    .dataframe thead th {\n",
       "        text-align: right;\n",
       "    }\n",
       "</style>\n",
       "<table border=\"1\" class=\"dataframe\">\n",
       "  <thead>\n",
       "    <tr style=\"text-align: right;\">\n",
       "      <th></th>\n",
       "      <th>beds</th>\n",
       "      <th>baths</th>\n",
       "      <th>size</th>\n",
       "      <th>size_units</th>\n",
       "      <th>lot_size</th>\n",
       "      <th>lot_size_units</th>\n",
       "      <th>zip_code</th>\n",
       "      <th>price</th>\n",
       "    </tr>\n",
       "  </thead>\n",
       "  <tbody>\n",
       "    <tr>\n",
       "      <th>0</th>\n",
       "      <td>3</td>\n",
       "      <td>2.5</td>\n",
       "      <td>2590.0</td>\n",
       "      <td>sqft</td>\n",
       "      <td>6000.00</td>\n",
       "      <td>sqft</td>\n",
       "      <td>98144</td>\n",
       "      <td>795000.0</td>\n",
       "    </tr>\n",
       "    <tr>\n",
       "      <th>1</th>\n",
       "      <td>4</td>\n",
       "      <td>2.0</td>\n",
       "      <td>2240.0</td>\n",
       "      <td>sqft</td>\n",
       "      <td>0.31</td>\n",
       "      <td>acre</td>\n",
       "      <td>98106</td>\n",
       "      <td>915000.0</td>\n",
       "    </tr>\n",
       "    <tr>\n",
       "      <th>2</th>\n",
       "      <td>4</td>\n",
       "      <td>3.0</td>\n",
       "      <td>2040.0</td>\n",
       "      <td>sqft</td>\n",
       "      <td>3783.00</td>\n",
       "      <td>sqft</td>\n",
       "      <td>98107</td>\n",
       "      <td>950000.0</td>\n",
       "    </tr>\n",
       "  </tbody>\n",
       "</table>\n",
       "</div>"
      ],
      "text/plain": [
       "   beds  baths    size size_units  lot_size lot_size_units  zip_code     price\n",
       "0     3    2.5  2590.0       sqft   6000.00           sqft     98144  795000.0\n",
       "1     4    2.0  2240.0       sqft      0.31           acre     98106  915000.0\n",
       "2     4    3.0  2040.0       sqft   3783.00           sqft     98107  950000.0"
      ]
     },
     "execution_count": 39,
     "metadata": {},
     "output_type": "execute_result"
    }
   ],
   "source": [
    "df = pd.read_csv(\"./dataset/train.csv\")\n",
    "df.head(3)"
   ]
  },
  {
   "cell_type": "code",
   "execution_count": 40,
   "id": "d468329c",
   "metadata": {},
   "outputs": [
    {
     "data": {
      "text/plain": [
       "beds                int64\n",
       "baths             float64\n",
       "size              float64\n",
       "size_units         object\n",
       "lot_size          float64\n",
       "lot_size_units     object\n",
       "zip_code            int64\n",
       "price             float64\n",
       "dtype: object"
      ]
     },
     "execution_count": 40,
     "metadata": {},
     "output_type": "execute_result"
    }
   ],
   "source": [
    "df.dtypes"
   ]
  },
  {
   "cell_type": "markdown",
   "id": "49bfbdce",
   "metadata": {},
   "source": [
    "## Feature Analysis\n",
    "\n",
    "### Acre to Square feet\n",
    "\n",
    "Now that we have the dataset loaded, we can see that some of the lot size is in *sqft* and some of them are in *acre*. So, I will convert the *acre* to *sqft* since we need every data to be on the same format."
   ]
  },
  {
   "cell_type": "code",
   "execution_count": 41,
   "id": "081472f8",
   "metadata": {},
   "outputs": [],
   "source": [
    "m, n = df.shape\n",
    "for i in range (n):\n",
    "    if df.iloc[i, 5] == \"acre\":\n",
    "        df.iloc[i, 4] = df.iloc[i, 4] * 43560"
   ]
  },
  {
   "cell_type": "code",
   "execution_count": 42,
   "id": "05ecb86b",
   "metadata": {},
   "outputs": [
    {
     "data": {
      "text/html": [
       "<div>\n",
       "<style scoped>\n",
       "    .dataframe tbody tr th:only-of-type {\n",
       "        vertical-align: middle;\n",
       "    }\n",
       "\n",
       "    .dataframe tbody tr th {\n",
       "        vertical-align: top;\n",
       "    }\n",
       "\n",
       "    .dataframe thead th {\n",
       "        text-align: right;\n",
       "    }\n",
       "</style>\n",
       "<table border=\"1\" class=\"dataframe\">\n",
       "  <thead>\n",
       "    <tr style=\"text-align: right;\">\n",
       "      <th></th>\n",
       "      <th>beds</th>\n",
       "      <th>baths</th>\n",
       "      <th>size</th>\n",
       "      <th>size_units</th>\n",
       "      <th>lot_size</th>\n",
       "      <th>lot_size_units</th>\n",
       "      <th>zip_code</th>\n",
       "      <th>price</th>\n",
       "    </tr>\n",
       "  </thead>\n",
       "  <tbody>\n",
       "    <tr>\n",
       "      <th>0</th>\n",
       "      <td>3</td>\n",
       "      <td>2.5</td>\n",
       "      <td>2590.0</td>\n",
       "      <td>sqft</td>\n",
       "      <td>6000.0</td>\n",
       "      <td>sqft</td>\n",
       "      <td>98144</td>\n",
       "      <td>795000.0</td>\n",
       "    </tr>\n",
       "    <tr>\n",
       "      <th>1</th>\n",
       "      <td>4</td>\n",
       "      <td>2.0</td>\n",
       "      <td>2240.0</td>\n",
       "      <td>sqft</td>\n",
       "      <td>13503.6</td>\n",
       "      <td>acre</td>\n",
       "      <td>98106</td>\n",
       "      <td>915000.0</td>\n",
       "    </tr>\n",
       "    <tr>\n",
       "      <th>2</th>\n",
       "      <td>4</td>\n",
       "      <td>3.0</td>\n",
       "      <td>2040.0</td>\n",
       "      <td>sqft</td>\n",
       "      <td>3783.0</td>\n",
       "      <td>sqft</td>\n",
       "      <td>98107</td>\n",
       "      <td>950000.0</td>\n",
       "    </tr>\n",
       "  </tbody>\n",
       "</table>\n",
       "</div>"
      ],
      "text/plain": [
       "   beds  baths    size size_units  lot_size lot_size_units  zip_code     price\n",
       "0     3    2.5  2590.0       sqft    6000.0           sqft     98144  795000.0\n",
       "1     4    2.0  2240.0       sqft   13503.6           acre     98106  915000.0\n",
       "2     4    3.0  2040.0       sqft    3783.0           sqft     98107  950000.0"
      ]
     },
     "execution_count": 42,
     "metadata": {},
     "output_type": "execute_result"
    }
   ],
   "source": [
    "df.head(3)"
   ]
  },
  {
   "cell_type": "markdown",
   "id": "0b65968c",
   "metadata": {},
   "source": [
    "Since, every lot size is now on the same data format. Thus we can remove/drop the unit features."
   ]
  },
  {
   "cell_type": "code",
   "execution_count": 43,
   "id": "ca638186",
   "metadata": {},
   "outputs": [],
   "source": [
    "df = df.drop('size_units', axis = 1)\n",
    "df = df.drop('lot_size_units', axis = 1)"
   ]
  },
  {
   "cell_type": "code",
   "execution_count": 44,
   "id": "e9e13952",
   "metadata": {
    "scrolled": true
   },
   "outputs": [
    {
     "data": {
      "text/html": [
       "<div>\n",
       "<style scoped>\n",
       "    .dataframe tbody tr th:only-of-type {\n",
       "        vertical-align: middle;\n",
       "    }\n",
       "\n",
       "    .dataframe tbody tr th {\n",
       "        vertical-align: top;\n",
       "    }\n",
       "\n",
       "    .dataframe thead th {\n",
       "        text-align: right;\n",
       "    }\n",
       "</style>\n",
       "<table border=\"1\" class=\"dataframe\">\n",
       "  <thead>\n",
       "    <tr style=\"text-align: right;\">\n",
       "      <th></th>\n",
       "      <th>beds</th>\n",
       "      <th>baths</th>\n",
       "      <th>size</th>\n",
       "      <th>lot_size</th>\n",
       "      <th>zip_code</th>\n",
       "      <th>price</th>\n",
       "    </tr>\n",
       "  </thead>\n",
       "  <tbody>\n",
       "    <tr>\n",
       "      <th>0</th>\n",
       "      <td>3</td>\n",
       "      <td>2.5</td>\n",
       "      <td>2590.0</td>\n",
       "      <td>6000.0</td>\n",
       "      <td>98144</td>\n",
       "      <td>795000.0</td>\n",
       "    </tr>\n",
       "    <tr>\n",
       "      <th>1</th>\n",
       "      <td>4</td>\n",
       "      <td>2.0</td>\n",
       "      <td>2240.0</td>\n",
       "      <td>13503.6</td>\n",
       "      <td>98106</td>\n",
       "      <td>915000.0</td>\n",
       "    </tr>\n",
       "    <tr>\n",
       "      <th>2</th>\n",
       "      <td>4</td>\n",
       "      <td>3.0</td>\n",
       "      <td>2040.0</td>\n",
       "      <td>3783.0</td>\n",
       "      <td>98107</td>\n",
       "      <td>950000.0</td>\n",
       "    </tr>\n",
       "  </tbody>\n",
       "</table>\n",
       "</div>"
      ],
      "text/plain": [
       "   beds  baths    size  lot_size  zip_code     price\n",
       "0     3    2.5  2590.0    6000.0     98144  795000.0\n",
       "1     4    2.0  2240.0   13503.6     98106  915000.0\n",
       "2     4    3.0  2040.0    3783.0     98107  950000.0"
      ]
     },
     "execution_count": 44,
     "metadata": {},
     "output_type": "execute_result"
    }
   ],
   "source": [
    "df.head(3)"
   ]
  },
  {
   "cell_type": "markdown",
   "id": "fcd78d44",
   "metadata": {},
   "source": [
    "### Handling missing values\n",
    "\n",
    "There are so many missing values in the lot-size features. I can -\n",
    "   - Replace them with Median\n",
    "   - Replace them with Mean\n",
    "   - Simply dropping the training example (row)\n",
    "   \n",
    "For this particular project I am choosing to replace the blanks with the `mean` of that feature."
   ]
  },
  {
   "cell_type": "code",
   "execution_count": 45,
   "id": "8a1b552d",
   "metadata": {},
   "outputs": [
    {
     "data": {
      "text/plain": [
       "beds          0\n",
       "baths         0\n",
       "size          0\n",
       "lot_size    347\n",
       "zip_code      0\n",
       "price         0\n",
       "dtype: int64"
      ]
     },
     "execution_count": 45,
     "metadata": {},
     "output_type": "execute_result"
    }
   ],
   "source": [
    "df.isnull().sum()"
   ]
  },
  {
   "cell_type": "code",
   "execution_count": 46,
   "id": "da9f128a",
   "metadata": {},
   "outputs": [],
   "source": [
    "df['lot_size'] = df['lot_size'].fillna(df['lot_size'].median())"
   ]
  },
  {
   "cell_type": "code",
   "execution_count": 47,
   "id": "ad155e36",
   "metadata": {},
   "outputs": [
    {
     "data": {
      "text/plain": [
       "beds        0\n",
       "baths       0\n",
       "size        0\n",
       "lot_size    0\n",
       "zip_code    0\n",
       "price       0\n",
       "dtype: int64"
      ]
     },
     "execution_count": 47,
     "metadata": {},
     "output_type": "execute_result"
    }
   ],
   "source": [
    "df.isnull().sum()"
   ]
  },
  {
   "cell_type": "code",
   "execution_count": 48,
   "id": "ef155c07",
   "metadata": {},
   "outputs": [],
   "source": [
    "# Feature and Target Separation\n",
    "X_train = np.array(df.iloc[:, :-1])\n",
    "y_train = np.array(df.iloc[:, -1])\n",
    "X_features = ['beds','baths','size','lot_size','zip_code']"
   ]
  },
  {
   "cell_type": "markdown",
   "id": "43b2abdb",
   "metadata": {},
   "source": [
    "## Feature Scaling\n",
    "\n",
    "Here, in the dataset, some features have values that are tremendously high and prevent gradient descent from converging to the global minimum. The solution is Feature Scaling.\n",
    "\n",
    "I know three different techniques:\n",
    "   - Feature scaling, essentially dividing each positive feature by its maximum value, or more generally, rescale each feature by both its minimum and maximum values using (x-min)/(max-min). Both ways normalizes features to the range of -1 and 1, where the former method works for positive features which is simple and serves well for the lecture's example, and the latter method works for any features.\n",
    "   - Mean normalization: $x_i := \\dfrac{x_i - \\mu_i}{max - min} $ \n",
    "   - Z-score normalization which we will explore below.\n",
    "   \n",
    "I am going for Z-score normalization."
   ]
  },
  {
   "cell_type": "markdown",
   "id": "c69265e4",
   "metadata": {},
   "source": [
    "### Z-score Normalization\n",
    "\n",
    "After z-score normalization, all features will have a mean of 0 and a standard deviation of 1.\n",
    "\n",
    "To implement z-score normalization, adjust your input values as shown in this formula:\n",
    "$$x^{(i)}_j = \\dfrac{x^{(i)}_j - \\mu_j}{\\sigma_j} \\tag{4}$$ \n",
    "where $j$ selects a feature or a column in the $\\mathbf{X}$ matrix. $µ_j$ is the mean of all the values for feature (j) and $\\sigma_j$ is the standard deviation of feature (j).\n",
    "$$\n",
    "\\begin{align}\n",
    "\\mu_j &= \\frac{1}{m} \\sum_{i=0}^{m-1} x^{(i)}_j \\tag{5}\\\\\n",
    "\\sigma^2_j &= \\frac{1}{m} \\sum_{i=0}^{m-1} (x^{(i)}_j - \\mu_j)^2  \\tag{6}\n",
    "\\end{align}\n",
    "$$\n",
    "\n",
    ">**Implementation Note:** When normalizing the features, it is important\n",
    "to store the values used for normalization - the mean value and the standard deviation used for the computations. After learning the parameters\n",
    "from the model, we often want to predict the prices of houses we have not\n",
    "seen before. Given a new x value (living room area and number of bed-\n",
    "rooms), we must first normalize x using the mean and standard deviation\n",
    "that we had previously computed from the training set.\n",
    "\n",
    "**Implementation**"
   ]
  },
  {
   "cell_type": "code",
   "execution_count": 49,
   "id": "aeee0184",
   "metadata": {},
   "outputs": [],
   "source": [
    "def zscore_normalize_features(X):\n",
    "    \n",
    "    #find the mean of each column/feature\n",
    "    mu = np.mean(X, axis = 0)  #axis, 0 = column, 1 = row\n",
    "    \n",
    "    #find the standard deviation of each/column/featue\n",
    "    sigma = np.std(X, axis = 0)\n",
    "    \n",
    "    #element-wise, subtract mu for that column from each example, divide by std for that column\n",
    "    X_norm = (X - mu) / sigma\n",
    "    \n",
    "    return (X_norm, mu, sigma)\n",
    "\n",
    "#or can use functions from sk-learn\n",
    "#from sklearn.preprocessing import scale\n",
    "#scale(X_orig, axis=0, with_mean=True, with_std=True, copy=True)"
   ]
  },
  {
   "cell_type": "code",
   "execution_count": 50,
   "id": "bd763249",
   "metadata": {},
   "outputs": [
    {
     "name": "stdout",
     "output_type": "stream",
     "text": [
      "X_mu = [2.85763889e+00 2.15997024e+00 1.73574058e+03 3.92155800e+03\n",
      " 9.81236389e+04], \n",
      "X_sigma = [1.25478101e+00 1.00177412e+00 9.19904355e+02 2.63276177e+03\n",
      " 2.26452007e+01]\n",
      "Peak to Peak range by column in Raw        X:[1.400000e+01 8.500000e+00 1.076000e+04 4.355977e+04 9.800000e+01]\n",
      "Peak to Peak range by column in Normalized X:[11.15732539  8.48494668 11.6968682  16.54527593  4.3276278 ]\n"
     ]
    }
   ],
   "source": [
    "X_norm, X_mu, X_sigma = zscore_normalize_features(X_train)\n",
    "#y_train, y_mu, y_sigma = zscore_normalize_features(y_train)\n",
    "print(f\"X_mu = {X_mu}, \\nX_sigma = {X_sigma}\")\n",
    "print(f\"Peak to Peak range by column in Raw        X:{np.ptp(X_train,axis=0)}\")   \n",
    "print(f\"Peak to Peak range by column in Normalized X:{np.ptp(X_norm,axis=0)}\")"
   ]
  },
  {
   "cell_type": "markdown",
   "id": "d9654499",
   "metadata": {},
   "source": [
    "## Price vs Feature Relation\n",
    "\n",
    "Let's view the dataset and its features by plotting each feature versus price."
   ]
  },
  {
   "cell_type": "code",
   "execution_count": 51,
   "id": "12af2829",
   "metadata": {},
   "outputs": [
    {
     "data": {
      "image/png": "[encoded data removed]",
      "text/plain": [
       "<Figure size 900x200 with 5 Axes>"
      ]
     },
     "metadata": {},
     "output_type": "display_data"
    }
   ],
   "source": [
    "fig, ax = plt.subplots(1, 5, figsize=(9, 2), sharey = True)\n",
    "for i in range(len(ax)):\n",
    "    ax[i].scatter(X_norm[:,i], y_train)\n",
    "    ax[i].set_xlabel(X_features[i])\n",
    "ax[0].set_ylabel('price')\n",
    "plt.show()"
   ]
  },
  {
   "cell_type": "markdown",
   "id": "55a2348e",
   "metadata": {},
   "source": [
    "As we can see, beds and lot sizes has bigger effects on the price of the houses than other features."
   ]
  },
  {
   "cell_type": "markdown",
   "id": "f46800e1",
   "metadata": {},
   "source": [
    "# Gradient Descent With Multiple Variables\n",
    "\n",
    "Here are the equations I developed in the labs of coursera on gradient descent for multiple variables.:\n",
    "\n",
    "$$\\begin{align*} \\text{repeat}&\\text{ until convergence:} \\; \\lbrace \\newline\\;\n",
    "& w_j := w_j -  \\alpha \\frac{\\partial J(\\mathbf{w},b)}{\\partial w_j} \\tag{1}  \\; & \\text{for j = 0..n-1}\\newline\n",
    "&b\\ \\ := b -  \\alpha \\frac{\\partial J(\\mathbf{w},b)}{\\partial b}  \\newline \\rbrace\n",
    "\\end{align*}$$\n",
    "\n",
    "where, n is the number of features, parameters $w_j$,  $b$, are updated simultaneously and where  \n",
    "\n",
    "$$\n",
    "\\begin{align}\n",
    "\\frac{\\partial J(\\mathbf{w},b)}{\\partial w_j}  &= \\frac{1}{m} \\sum\\limits_{i = 0}^{m-1} (f_{\\mathbf{w},b}(\\mathbf{x}^{(i)}) - y^{(i)})x_{j}^{(i)} \\tag{2}  \\\\\n",
    "\\frac{\\partial J(\\mathbf{w},b)}{\\partial b}  &= \\frac{1}{m} \\sum\\limits_{i = 0}^{m-1} (f_{\\mathbf{w},b}(\\mathbf{x}^{(i)}) - y^{(i)}) \\tag{3}\n",
    "\\end{align}\n",
    "$$\n",
    "* m is the number of training examples in the data set\n",
    "\n",
    "    \n",
    "*  $f_{\\mathbf{w},b}(\\mathbf{x}^{(i)})$ is the model's prediction, while $y^{(i)}$ is the target value\n",
    "\n",
    "**Implementation**"
   ]
  },
  {
   "cell_type": "code",
   "execution_count": 52,
   "id": "9a05743b",
   "metadata": {},
   "outputs": [],
   "source": [
    "def compute_gradient(X, y, w, b):\n",
    "  m, n = X.shape\n",
    "  dj_w = np.zeros((n,))\n",
    "  dj_b = 0\n",
    "\n",
    "  #m = rows, n = columns\n",
    "  for i in range (m):\n",
    "    err = (np.dot(w, X[i]) + b) - y[i]\n",
    "    for j in range (n):\n",
    "      dj_w[j] = dj_w[j] + err * X[i, j]\n",
    "    dj_b = dj_b + err\n",
    "\n",
    "  dj_w = dj_w / m\n",
    "  dj_b= dj_b / m\n",
    "  return dj_w, dj_b"
   ]
  },
  {
   "cell_type": "code",
   "execution_count": 53,
   "id": "187f3b55",
   "metadata": {},
   "outputs": [],
   "source": [
    "def compute_cost (x, y, w, b):\n",
    "  m = x.shape[0]\n",
    "  cost = 0.0\n",
    "  for i in range (m):\n",
    "    f_wb_i = np.dot(w, x[i]) + b\n",
    "    cost = cost + (f_wb_i - y[i]) ** 2\n",
    "  cost = cost / (2 * m)\n",
    "  return cost"
   ]
  },
  {
   "cell_type": "code",
   "execution_count": 54,
   "id": "02b1ae16",
   "metadata": {},
   "outputs": [],
   "source": [
    "def gradient_descent(x, y, w_in, b_in, compute_gradient, compute_cost, alpha, num_iters):\n",
    "  w = copy.deepcopy(w_in)\n",
    "  b = b_in\n",
    "\n",
    "  J_history = []\n",
    "  iter_rec = []\n",
    "  for i in range (num_iters):\n",
    "    dj_w, dj_b = compute_gradient(x, y, w, b)\n",
    "    \n",
    "    #recording the cost history\n",
    "    if i % 3 == 0:\n",
    "      J_history.append(compute_cost(x, y, w, b))\n",
    "      iter_rec.append(i)\n",
    "\n",
    "    w = w - alpha * dj_w\n",
    "    b = b - alpha * dj_b\n",
    "  \n",
    "  return w, b, J_history, iter_rec"
   ]
  },
  {
   "cell_type": "code",
   "execution_count": null,
   "id": "5f32bc21",
   "metadata": {},
   "outputs": [],
   "source": []
  },
  {
   "cell_type": "code",
   "execution_count": null,
   "id": "a1e40e87",
   "metadata": {},
   "outputs": [],
   "source": [
    "alpha = 0.001\n",
    "iterations = 10000\n",
    "m, n = X_train.shape\n",
    "w_in = np.zeros((n,))\n",
    "b_in = 0.0\n",
    "final_w, final_b, J_history, iter_rec = gradient_descent(X_norm, y_train, w_in, b_in, compute_gradient, compute_cost, alpha, iterations)\n",
    "print(f\"w : {final_w}\")\n",
    "print(f\"w : {final_b}\")"
   ]
  },
  {
   "cell_type": "code",
   "execution_count": 125,
   "id": "bc5ac3c8",
   "metadata": {},
   "outputs": [
    {
     "data": {
      "text/plain": [
       "351570446250.6989"
      ]
     },
     "execution_count": 125,
     "metadata": {},
     "output_type": "execute_result"
    }
   ],
   "source": [
    "compute_cost(X_norm, y_train, final_w, final_b)"
   ]
  },
  {
   "cell_type": "code",
   "execution_count": 130,
   "id": "10831686",
   "metadata": {
    "scrolled": false
   },
   "outputs": [
    {
     "data": {
      "image/png": "[encoded data removed]",
      "text/plain": [
       "<Figure size 640x480 with 1 Axes>"
      ]
     },
     "metadata": {},
     "output_type": "display_data"
    }
   ],
   "source": [
    "plt.plot(iter_rec, J_history)\n",
    "plt.title(\"Cost Function Convergence\")\n",
    "plt.xlabel(\"Iteration\")\n",
    "plt.ylabel(\"Cost\")\n",
    "plt.show()"
   ]
  },
  {
   "cell_type": "code",
   "execution_count": 129,
   "id": "d63583d4",
   "metadata": {},
   "outputs": [
    {
     "data": {
      "text/plain": [
       "351570553104.8162"
      ]
     },
     "execution_count": 129,
     "metadata": {},
     "output_type": "execute_result"
    }
   ],
   "source": [
    "J_history[-1]"
   ]
  },
  {
   "cell_type": "code",
   "execution_count": 80,
   "id": "e8581179",
   "metadata": {},
   "outputs": [],
   "source": [
    "from sklearn import linear_model"
   ]
  },
  {
   "cell_type": "code",
   "execution_count": 114,
   "id": "0a5c6306",
   "metadata": {},
   "outputs": [
    {
     "data": {
      "text/html": [
       "<style>#sk-container-id-7 {color: black;background-color: white;}#sk-container-id-7 pre{padding: 0;}#sk-container-id-7 div.sk-toggleable {background-color: white;}#sk-container-id-7 label.sk-toggleable__label {cursor: pointer;display: block;width: 100%;margin-bottom: 0;padding: 0.3em;box-sizing: border-box;text-align: center;}#sk-container-id-7 label.sk-toggleable__label-arrow:before {content: \"▸\";float: left;margin-right: 0.25em;color: #696969;}#sk-container-id-7 label.sk-toggleable__label-arrow:hover:before {color: black;}#sk-container-id-7 div.sk-estimator:hover label.sk-toggleable__label-arrow:before {color: black;}#sk-container-id-7 div.sk-toggleable__content {max-height: 0;max-width: 0;overflow: hidden;text-align: left;background-color: #f0f8ff;}#sk-container-id-7 div.sk-toggleable__content pre {margin: 0.2em;color: black;border-radius: 0.25em;background-color: #f0f8ff;}#sk-container-id-7 input.sk-toggleable__control:checked~div.sk-toggleable__content {max-height: 200px;max-width: 100%;overflow: auto;}#sk-container-id-7 input.sk-toggleable__control:checked~label.sk-toggleable__label-arrow:before {content: \"▾\";}#sk-container-id-7 div.sk-estimator input.sk-toggleable__control:checked~label.sk-toggleable__label {background-color: #d4ebff;}#sk-container-id-7 div.sk-label input.sk-toggleable__control:checked~label.sk-toggleable__label {background-color: #d4ebff;}#sk-container-id-7 input.sk-hidden--visually {border: 0;clip: rect(1px 1px 1px 1px);clip: rect(1px, 1px, 1px, 1px);height: 1px;margin: -1px;overflow: hidden;padding: 0;position: absolute;width: 1px;}#sk-container-id-7 div.sk-estimator {font-family: monospace;background-color: #f0f8ff;border: 1px dotted black;border-radius: 0.25em;box-sizing: border-box;margin-bottom: 0.5em;}#sk-container-id-7 div.sk-estimator:hover {background-color: #d4ebff;}#sk-container-id-7 div.sk-parallel-item::after {content: \"\";width: 100%;border-bottom: 1px solid gray;flex-grow: 1;}#sk-container-id-7 div.sk-label:hover label.sk-toggleable__label {background-color: #d4ebff;}#sk-container-id-7 div.sk-serial::before {content: \"\";position: absolute;border-left: 1px solid gray;box-sizing: border-box;top: 0;bottom: 0;left: 50%;z-index: 0;}#sk-container-id-7 div.sk-serial {display: flex;flex-direction: column;align-items: center;background-color: white;padding-right: 0.2em;padding-left: 0.2em;position: relative;}#sk-container-id-7 div.sk-item {position: relative;z-index: 1;}#sk-container-id-7 div.sk-parallel {display: flex;align-items: stretch;justify-content: center;background-color: white;position: relative;}#sk-container-id-7 div.sk-item::before, #sk-container-id-7 div.sk-parallel-item::before {content: \"\";position: absolute;border-left: 1px solid gray;box-sizing: border-box;top: 0;bottom: 0;left: 50%;z-index: -1;}#sk-container-id-7 div.sk-parallel-item {display: flex;flex-direction: column;z-index: 1;position: relative;background-color: white;}#sk-container-id-7 div.sk-parallel-item:first-child::after {align-self: flex-end;width: 50%;}#sk-container-id-7 div.sk-parallel-item:last-child::after {align-self: flex-start;width: 50%;}#sk-container-id-7 div.sk-parallel-item:only-child::after {width: 0;}#sk-container-id-7 div.sk-dashed-wrapped {border: 1px dashed gray;margin: 0 0.4em 0.5em 0.4em;box-sizing: border-box;padding-bottom: 0.4em;background-color: white;}#sk-container-id-7 div.sk-label label {font-family: monospace;font-weight: bold;display: inline-block;line-height: 1.2em;}#sk-container-id-7 div.sk-label-container {text-align: center;}#sk-container-id-7 div.sk-container {/* jupyter's `normalize.less` sets `[hidden] { display: none; }` but bootstrap.min.css set `[hidden] { display: none !important; }` so we also need the `!important` here to be able to override the default hidden behavior on the sphinx rendered scikit-learn.org. See: https://github.com/scikit-learn/scikit-learn/issues/21755 */display: inline-block !important;position: relative;}#sk-container-id-7 div.sk-text-repr-fallback {display: none;}</style><div id=\"sk-container-id-7\" class=\"sk-top-container\"><div class=\"sk-text-repr-fallback\"><pre>LinearRegression()</pre><b>In a Jupyter environment, please rerun this cell to show the HTML representation or trust the notebook. <br />On GitHub, the HTML representation is unable to render, please try loading this page with nbviewer.org.</b></div><div class=\"sk-container\" hidden><div class=\"sk-item\"><div class=\"sk-estimator sk-toggleable\"><input class=\"sk-toggleable__control sk-hidden--visually\" id=\"sk-estimator-id-7\" type=\"checkbox\" checked><label for=\"sk-estimator-id-7\" class=\"sk-toggleable__label sk-toggleable__label-arrow\">LinearRegression</label><div class=\"sk-toggleable__content\"><pre>LinearRegression()</pre></div></div></div></div></div>"
      ],
      "text/plain": [
       "LinearRegression()"
      ]
     },
     "execution_count": 114,
     "metadata": {},
     "output_type": "execute_result"
    }
   ],
   "source": [
    "reg = linear_model.LinearRegression()\n",
    "reg.fit(df[['beds', 'baths', 'size', 'lot_size', 'zip_code']], df.price)"
   ]
  },
  {
   "cell_type": "code",
   "execution_count": 115,
   "id": "b1c71498",
   "metadata": {},
   "outputs": [],
   "source": [
    "new_w = reg.coef_"
   ]
  },
  {
   "cell_type": "code",
   "execution_count": 116,
   "id": "6b1ca30b",
   "metadata": {},
   "outputs": [],
   "source": [
    "new_b = reg.intercept_"
   ]
  },
  {
   "cell_type": "code",
   "execution_count": 119,
   "id": "089d0b84",
   "metadata": {},
   "outputs": [
    {
     "name": "stdout",
     "output_type": "stream",
     "text": [
      "total cost on training data : 351335951459.5181\n"
     ]
    }
   ],
   "source": [
    "train_cost = compute_cost(X_train, y_train, new_w, new_b)\n",
    "\n",
    "print(f\"total cost on training data : {train_cost}\")"
   ]
  },
  {
   "cell_type": "code",
   "execution_count": 124,
   "id": "cee3bdc8",
   "metadata": {},
   "outputs": [
    {
     "data": {
      "text/plain": [
       "1169485.9594981074"
      ]
     },
     "execution_count": 124,
     "metadata": {},
     "output_type": "execute_result"
    }
   ],
   "source": [
    "x = np.array([4, 2.0,2240.0,13503.6, 98106])\n",
    "np.dot(new_w, x) + new_b"
   ]
  },
  {
   "cell_type": "code",
   "execution_count": 126,
   "id": "7c55c1a7",
   "metadata": {},
   "outputs": [
    {
     "data": {
      "text/plain": [
       "array([[ 0.11345495,  0.33942758,  0.9286394 ,  0.78945312,  0.89913582],\n",
       "       [ 0.91040676, -0.15968693,  0.54816506,  3.63954008, -0.77892394],\n",
       "       [ 0.91040676,  0.83854209,  0.33075115, -0.05262838, -0.73476447],\n",
       "       ...,\n",
       "       [ 0.91040676, -0.15968693,  0.4394581 ,  0.88441044,  3.32790652],\n",
       "       [-0.68349687, -0.15968693, -1.02265042,  0.02979457, -0.91140234],\n",
       "       [ 0.11345495, -0.15968693, -0.0279818 ,  0.13120899,  0.41338168]])"
      ]
     },
     "execution_count": 126,
     "metadata": {},
     "output_type": "execute_result"
    }
   ],
   "source": [
    "X_norm"
   ]
  },
  {
   "cell_type": "code",
   "execution_count": 128,
   "id": "3a47ac4a",
   "metadata": {},
   "outputs": [
    {
     "data": {
      "text/plain": [
       "1125094.3789948449"
      ]
     },
     "execution_count": 128,
     "metadata": {},
     "output_type": "execute_result"
    }
   ],
   "source": [
    "x = ([0.91040676,  0.83854209,  0.33075115, -0.05262838, -0.73476447])\n",
    "np.dot(final_w, x) + final_b"
   ]
  },
  {
   "cell_type": "code",
   "execution_count": null,
   "id": "c6e1af33",
   "metadata": {},
   "outputs": [],
   "source": []
  }
 ],
 "metadata": {
  "kernelspec": {
   "display_name": "Python 3 (ipykernel)",
   "language": "python",
   "name": "python3"
  },
  "language_info": {
   "codemirror_mode": {
    "name": "ipython",
    "version": 3
   },
   "file_extension": ".py",
   "mimetype": "text/x-python",
   "name": "python",
   "nbconvert_exporter": "python",
   "pygments_lexer": "ipython3",
   "version": "3.11.1"
  }
 },
 "nbformat": 4,
 "nbformat_minor": 5
}

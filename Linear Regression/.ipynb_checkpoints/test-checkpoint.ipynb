{
 "cells": [
  {
   "cell_type": "markdown",
   "id": "8751aef0",
   "metadata": {},
   "source": [
    "<figure>\n",
    " <img align=\"left\" src=\"images/one.png\">\n",
    "</figure>"
   ]
  },
  {
   "cell_type": "markdown",
   "id": "48754766",
   "metadata": {},
   "source": [
    "![one](https://user-images.githubusercontent.com/125558428/219949256-fa1920bd-fff2-407a-8bf1-5d956e99588b.PNG)"
   ]
  },
  {
   "cell_type": "code",
   "execution_count": null,
   "id": "29675a3c",
   "metadata": {},
   "outputs": [],
   "source": []
  }
 ],
 "metadata": {
  "kernelspec": {
   "display_name": "Python 3 (ipykernel)",
   "language": "python",
   "name": "python3"
  },
  "language_info": {
   "codemirror_mode": {
    "name": "ipython",
    "version": 3
   },
   "file_extension": ".py",
   "mimetype": "text/x-python",
   "name": "python",
   "nbconvert_exporter": "python",
   "pygments_lexer": "ipython3",
   "version": "3.11.1"
  }
 },
 "nbformat": 4,
 "nbformat_minor": 5
}

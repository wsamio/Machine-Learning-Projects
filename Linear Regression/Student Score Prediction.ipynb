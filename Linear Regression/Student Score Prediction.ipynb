{
 "cells": [
  {
   "cell_type": "markdown",
   "id": "8dd8814b",
   "metadata": {},
   "source": [
    "# Student score prediction by Linear Regression"
   ]
  },
  {
   "cell_type": "code",
   "execution_count": 1,
   "id": "ab6cfa93",
   "metadata": {},
   "outputs": [],
   "source": [
    "#needed packages for the implementation\n",
    "import pandas as pd\n",
    "import matplotlib.pyplot as plt\n",
    "plt.style.use('./deeplearning.mplstyle')"
   ]
  },
  {
   "cell_type": "code",
   "execution_count": 2,
   "id": "772b61f2",
   "metadata": {},
   "outputs": [
    {
     "data": {
      "text/html": [
       "<div>\n",
       "<style scoped>\n",
       "    .dataframe tbody tr th:only-of-type {\n",
       "        vertical-align: middle;\n",
       "    }\n",
       "\n",
       "    .dataframe tbody tr th {\n",
       "        vertical-align: top;\n",
       "    }\n",
       "\n",
       "    .dataframe thead th {\n",
       "        text-align: right;\n",
       "    }\n",
       "</style>\n",
       "<table border=\"1\" class=\"dataframe\">\n",
       "  <thead>\n",
       "    <tr style=\"text-align: right;\">\n",
       "      <th></th>\n",
       "      <th>time</th>\n",
       "      <th>score</th>\n",
       "    </tr>\n",
       "  </thead>\n",
       "  <tbody>\n",
       "    <tr>\n",
       "      <th>0</th>\n",
       "      <td>4.508</td>\n",
       "      <td>19.202</td>\n",
       "    </tr>\n",
       "    <tr>\n",
       "      <th>1</th>\n",
       "      <td>0.096</td>\n",
       "      <td>7.734</td>\n",
       "    </tr>\n",
       "    <tr>\n",
       "      <th>2</th>\n",
       "      <td>3.133</td>\n",
       "      <td>13.811</td>\n",
       "    </tr>\n",
       "    <tr>\n",
       "      <th>3</th>\n",
       "      <td>7.909</td>\n",
       "      <td>53.018</td>\n",
       "    </tr>\n",
       "    <tr>\n",
       "      <th>4</th>\n",
       "      <td>7.811</td>\n",
       "      <td>55.299</td>\n",
       "    </tr>\n",
       "    <tr>\n",
       "      <th>...</th>\n",
       "      <td>...</td>\n",
       "      <td>...</td>\n",
       "    </tr>\n",
       "    <tr>\n",
       "      <th>95</th>\n",
       "      <td>3.561</td>\n",
       "      <td>19.128</td>\n",
       "    </tr>\n",
       "    <tr>\n",
       "      <th>96</th>\n",
       "      <td>0.301</td>\n",
       "      <td>5.609</td>\n",
       "    </tr>\n",
       "    <tr>\n",
       "      <th>97</th>\n",
       "      <td>7.163</td>\n",
       "      <td>41.444</td>\n",
       "    </tr>\n",
       "    <tr>\n",
       "      <th>98</th>\n",
       "      <td>0.309</td>\n",
       "      <td>12.027</td>\n",
       "    </tr>\n",
       "    <tr>\n",
       "      <th>99</th>\n",
       "      <td>6.335</td>\n",
       "      <td>32.357</td>\n",
       "    </tr>\n",
       "  </tbody>\n",
       "</table>\n",
       "<p>100 rows × 2 columns</p>\n",
       "</div>"
      ],
      "text/plain": [
       "     time   score\n",
       "0   4.508  19.202\n",
       "1   0.096   7.734\n",
       "2   3.133  13.811\n",
       "3   7.909  53.018\n",
       "4   7.811  55.299\n",
       "..    ...     ...\n",
       "95  3.561  19.128\n",
       "96  0.301   5.609\n",
       "97  7.163  41.444\n",
       "98  0.309  12.027\n",
       "99  6.335  32.357\n",
       "\n",
       "[100 rows x 2 columns]"
      ]
     },
     "execution_count": 2,
     "metadata": {},
     "output_type": "execute_result"
    }
   ],
   "source": [
    "#reading the data\n",
    "data = pd.read_csv('data.csv')\n",
    "data"
   ]
  },
  {
   "cell_type": "code",
   "execution_count": 3,
   "id": "b34f71bb",
   "metadata": {},
   "outputs": [
    {
     "data": {
      "image/png": "[encoded data removed]",
      "text/plain": [
       "<Figure size 640x480 with 1 Axes>"
      ]
     },
     "metadata": {},
     "output_type": "display_data"
    }
   ],
   "source": [
    "#plotting the data\n",
    "plt.scatter(data.time, data.score, marker='X', c='r')\n",
    "plt.title(\"Student's Score\")\n",
    "plt.xlabel('Study Time')\n",
    "plt.ylabel('Achieved Score')\n",
    "plt.show()"
   ]
  },
  {
   "cell_type": "code",
   "execution_count": 70,
   "id": "398b0435",
   "metadata": {},
   "outputs": [],
   "source": [
    "def gradient_descent(w, b, points):\n",
    "    \n",
    "    #learning rate\n",
    "    L = 0.001\n",
    "    \n",
    "    #number of training examples\n",
    "    m = len(points)\n",
    "    \n",
    "    #total steps to run namely total iteration\n",
    "    steps = 1000\n",
    "    \n",
    "    while True:\n",
    "        \n",
    "        w_gradient = 0\n",
    "        b_gradient = 0\n",
    "        \n",
    "        for i in range(m):\n",
    "            x = points.iloc[i].time\n",
    "            y = points.iloc[i].score\n",
    "            \n",
    "            w_gradient += (-2 / m) * x * (y - (w * x - b)) ** 2\n",
    "            b_gradient += (-2 / m) * (y - (w * x - b)) ** 2\n",
    "        \n",
    "        #step size for w\n",
    "        step_w = w_gradient * L\n",
    "        w = w - step_w\n",
    "        \n",
    "        #step size for b\n",
    "        step_b = b_gradient * L\n",
    "        b = b - step_b\n",
    "        \n",
    "        steps -= 1\n",
    "        \n",
    "        #minimum step size is 0.001\n",
    "        if steps == 0 or step_w < 0.0001 and step_b < 0.0001:\n",
    "            break\n",
    "            \n",
    "    return w, b"
   ]
  },
  {
   "cell_type": "code",
   "execution_count": 75,
   "id": "3ee3da89",
   "metadata": {},
   "outputs": [
    {
     "data": {
      "text/plain": [
       "(5.4582137560842, 0.08338069814000001)"
      ]
     },
     "execution_count": 75,
     "metadata": {},
     "output_type": "execute_result"
    }
   ],
   "source": [
    "w = 5\n",
    "b = 0\n",
    "\n",
    "w, b = gradient_descent(w, b, data)\n",
    "w, b"
   ]
  },
  {
   "cell_type": "code",
   "execution_count": 76,
   "id": "2a701b08",
   "metadata": {
    "scrolled": false
   },
   "outputs": [
    {
     "data": {
      "image/png": "[encoded data removed]",
      "text/plain": [
       "<Figure size 640x480 with 1 Axes>"
      ]
     },
     "metadata": {},
     "output_type": "display_data"
    }
   ],
   "source": [
    "#plotting the data\n",
    "plt.scatter(data.time, data.score, marker='X', c='r')\n",
    "m = len(data)\n",
    "y_hat = []\n",
    "for i in range(m):\n",
    "    y_hat.append((data.time[i] * w + b))\n",
    "\n",
    "plt.plot(data.time, y_hat, c='b')\n",
    "\n",
    "plt.title(\"Student's Score\")\n",
    "plt.xlabel('Study Time')\n",
    "plt.ylabel('Achieved Score')\n",
    "plt.show()"
   ]
  },
  {
   "cell_type": "code",
   "execution_count": null,
   "id": "fa7efcba",
   "metadata": {},
   "outputs": [],
   "source": []
  },
  {
   "cell_type": "code",
   "execution_count": null,
   "id": "7e66c348",
   "metadata": {},
   "outputs": [],
   "source": []
  }
 ],
 "metadata": {
  "kernelspec": {
   "display_name": "Python 3 (ipykernel)",
   "language": "python",
   "name": "python3"
  },
  "language_info": {
   "codemirror_mode": {
    "name": "ipython",
    "version": 3
   },
   "file_extension": ".py",
   "mimetype": "text/x-python",
   "name": "python",
   "nbconvert_exporter": "python",
   "pygments_lexer": "ipython3",
   "version": "3.11.1"
  }
 },
 "nbformat": 4,
 "nbformat_minor": 5
}

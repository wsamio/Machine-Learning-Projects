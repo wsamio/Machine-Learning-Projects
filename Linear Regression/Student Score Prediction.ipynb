{
 "cells": [
  {
   "cell_type": "markdown",
   "id": "8dd8814b",
   "metadata": {},
   "source": [
    "# Student Score Prediction using Linear Regression"
   ]
  },
  {
   "cell_type": "markdown",
   "id": "6c0be484",
   "metadata": {},
   "source": [
    "### Goals\n",
    "In this project I will: \n",
    "- Implement Linear Regression\n",
    "- [Grdient Descent](https://www.youtube.com/watch?v=sDv4f4s2SB8)"
   ]
  },
  {
   "cell_type": "markdown",
   "id": "ae43017a",
   "metadata": {},
   "source": [
    "### Tools\n",
    "- Pandas\n",
    "- Matplotlib"
   ]
  },
  {
   "cell_type": "markdown",
   "id": "47ec8eee",
   "metadata": {},
   "source": [
    "### Problem Statement\n",
    "The amount of time students spent studying and their corresponding scores have been provided in a dataset. I would like to fit a `linear regression model` through these points, so I can then predict the score for other students."
   ]
  },
  {
   "cell_type": "code",
   "execution_count": 1,
   "id": "ab6cfa93",
   "metadata": {},
   "outputs": [],
   "source": [
    "#importing all the needed packages\n",
    "import pandas as pd\n",
    "import matplotlib.pyplot as plt\n",
    "plt.style.use('./deeplearning.mplstyle')"
   ]
  },
  {
   "cell_type": "code",
   "execution_count": 2,
   "id": "f32e7dcf",
   "metadata": {},
   "outputs": [
    {
     "data": {
      "text/html": [
       "<div>\n",
       "<style scoped>\n",
       "    .dataframe tbody tr th:only-of-type {\n",
       "        vertical-align: middle;\n",
       "    }\n",
       "\n",
       "    .dataframe tbody tr th {\n",
       "        vertical-align: top;\n",
       "    }\n",
       "\n",
       "    .dataframe thead th {\n",
       "        text-align: right;\n",
       "    }\n",
       "</style>\n",
       "<table border=\"1\" class=\"dataframe\">\n",
       "  <thead>\n",
       "    <tr style=\"text-align: right;\">\n",
       "      <th></th>\n",
       "      <th>time</th>\n",
       "      <th>score</th>\n",
       "    </tr>\n",
       "  </thead>\n",
       "  <tbody>\n",
       "    <tr>\n",
       "      <th>0</th>\n",
       "      <td>4.508</td>\n",
       "      <td>19.202</td>\n",
       "    </tr>\n",
       "    <tr>\n",
       "      <th>1</th>\n",
       "      <td>0.096</td>\n",
       "      <td>7.734</td>\n",
       "    </tr>\n",
       "    <tr>\n",
       "      <th>2</th>\n",
       "      <td>3.133</td>\n",
       "      <td>13.811</td>\n",
       "    </tr>\n",
       "    <tr>\n",
       "      <th>3</th>\n",
       "      <td>7.909</td>\n",
       "      <td>53.018</td>\n",
       "    </tr>\n",
       "    <tr>\n",
       "      <th>4</th>\n",
       "      <td>7.811</td>\n",
       "      <td>55.299</td>\n",
       "    </tr>\n",
       "    <tr>\n",
       "      <th>...</th>\n",
       "      <td>...</td>\n",
       "      <td>...</td>\n",
       "    </tr>\n",
       "    <tr>\n",
       "      <th>95</th>\n",
       "      <td>3.561</td>\n",
       "      <td>19.128</td>\n",
       "    </tr>\n",
       "    <tr>\n",
       "      <th>96</th>\n",
       "      <td>0.301</td>\n",
       "      <td>5.609</td>\n",
       "    </tr>\n",
       "    <tr>\n",
       "      <th>97</th>\n",
       "      <td>7.163</td>\n",
       "      <td>41.444</td>\n",
       "    </tr>\n",
       "    <tr>\n",
       "      <th>98</th>\n",
       "      <td>0.309</td>\n",
       "      <td>12.027</td>\n",
       "    </tr>\n",
       "    <tr>\n",
       "      <th>99</th>\n",
       "      <td>6.335</td>\n",
       "      <td>32.357</td>\n",
       "    </tr>\n",
       "  </tbody>\n",
       "</table>\n",
       "<p>100 rows × 2 columns</p>\n",
       "</div>"
      ],
      "text/plain": [
       "     time   score\n",
       "0   4.508  19.202\n",
       "1   0.096   7.734\n",
       "2   3.133  13.811\n",
       "3   7.909  53.018\n",
       "4   7.811  55.299\n",
       "..    ...     ...\n",
       "95  3.561  19.128\n",
       "96  0.301   5.609\n",
       "97  7.163  41.444\n",
       "98  0.309  12.027\n",
       "99  6.335  32.357\n",
       "\n",
       "[100 rows x 2 columns]"
      ]
     },
     "execution_count": 2,
     "metadata": {},
     "output_type": "execute_result"
    }
   ],
   "source": [
    "#reading the data\n",
    "data = pd.read_csv('data.csv')\n",
    "data"
   ]
  },
  {
   "cell_type": "markdown",
   "id": "3016763d",
   "metadata": {},
   "source": [
    "### Plotting The Data\n",
    "I am plotting these points using the `scatter()` function in the `matplotlib` library, as shown in the cell below. \n",
    "- The function arguments `marker` and `c` show the points as red crosses (the default is blue dots).\n",
    "\n",
    "I will also use other functions in the `matplotlib` library to set the title and labels to display"
   ]
  },
  {
   "cell_type": "code",
   "execution_count": 3,
   "id": "af27d3f3",
   "metadata": {},
   "outputs": [
    {
     "data": {
      "image/png": "[encoded data removed]",
      "text/plain": [
       "<Figure size 640x480 with 1 Axes>"
      ]
     },
     "metadata": {},
     "output_type": "display_data"
    }
   ],
   "source": [
    "#plotting the data\n",
    "plt.scatter(data.time, data.score, marker='X', c='r')\n",
    "plt.title(\"Student's Score\")\n",
    "plt.xlabel('Study Time')\n",
    "plt.ylabel('Achieved Score')\n",
    "plt.show()"
   ]
  },
  {
   "cell_type": "markdown",
   "id": "22c8dbba",
   "metadata": {},
   "source": [
    "### Using Gradient Descent Algorithm to Fit a Line Through the Data"
   ]
  },
  {
   "cell_type": "markdown",
   "id": "21ff8b55",
   "metadata": {},
   "source": [
    "We first need a funcion for the straight line:\n",
    "\n",
    "<figure>\n",
    " <img align=\"left\" src=\"./images/one.png\">\n",
    "</figure>\n",
    "\n",
    "<br>\n",
    "Here, y hat is the predicted score. $w$ and $b$ are the variables that we are going to tweak to get the best fitted line through the data."
   ]
  },
  {
   "cell_type": "markdown",
   "id": "399857e0",
   "metadata": {},
   "source": [
    "We also need a `Loss Function`:\n",
    "\n",
    "<figure>\n",
    " <img align=\"left\" src=\"./images/two.png\" style=\"width:501px;height:155px;\">\n",
    "</figure>\n",
    "<figure>\n",
    " <img align=\"left\" src=\"./images/three.png\"   style=\"width:669px;height:151px;\">\n",
    "</figure>\n",
    "<br><br><br><br><br><br><br><br><br><br><br><br><br><br><br><br><br>\n",
    "Loss Function is also called <b>Error Function</b>"
   ]
  },
  {
   "cell_type": "markdown",
   "id": "525ab567",
   "metadata": {},
   "source": [
    "We want to find $w$ and $b$ so we can minimize the Loss Function.<br>\n",
    "We can do that by taking the `Partial Derivarive` of $E$ with respect to $w$ and $b$."
   ]
  },
  {
   "cell_type": "markdown",
   "id": "a04b50df",
   "metadata": {},
   "source": [
    "<figure>\n",
    " <img align=\"right\" src=\"./images/four.png\">\n",
    "</figure>\n",
    "Partial Derivarive of $E$ with respect to $w$:"
   ]
  },
  {
   "cell_type": "markdown",
   "id": "b3c56263",
   "metadata": {},
   "source": [
    "<figure>\n",
    " <img align=\"right\" src=\"./images/five.png\">\n",
    "</figure>\n",
    "Partial Derivarive of $E$ with respect to $b$:"
   ]
  },
  {
   "cell_type": "code",
   "execution_count": 4,
   "id": "189b6e15",
   "metadata": {},
   "outputs": [],
   "source": [
    "def gradient_descent(w, b, points):\n",
    "    \n",
    "    #learning rate\n",
    "    L = 0.001\n",
    "    \n",
    "    #number of training examples\n",
    "    m = len(points)\n",
    "    \n",
    "    #total steps to run namely total iteration\n",
    "    steps = 5000\n",
    "    \n",
    "    while True:\n",
    "        \n",
    "        w_gradient = 0\n",
    "        b_gradient = 0\n",
    "        \n",
    "        for i in range(m):\n",
    "            x = points.iloc[i].time\n",
    "            y = points.iloc[i].score\n",
    "            \n",
    "            w_gradient += (-2 / m) * x * (y - (w * x - b)) ** 2\n",
    "            b_gradient += (-2 / m) * (y - (w * x - b)) ** 2\n",
    "        \n",
    "        #step size for w\n",
    "        step_w = w_gradient * L\n",
    "        w = w - step_w\n",
    "        \n",
    "        #step size for b\n",
    "        step_b = b_gradient * L\n",
    "        b = b - step_b\n",
    "        \n",
    "        steps -= 1\n",
    "        \n",
    "        #minimum step size is 0.0001\n",
    "        if steps == 0 or (step_w < 0.0001 and step_b < 0.0001):\n",
    "            break\n",
    "            \n",
    "    return w, b"
   ]
  },
  {
   "cell_type": "markdown",
   "id": "68034af8",
   "metadata": {},
   "source": [
    "> **Note**: I found $w$, $b$, Learning Rate, Number of Steps and Step Sizes to be very sensitive.\n",
    "I tweaked this values here and there and found current state of these assigned values to be somewhat good."
   ]
  },
  {
   "cell_type": "code",
   "execution_count": 5,
   "id": "00f848ad",
   "metadata": {},
   "outputs": [
    {
     "data": {
      "text/plain": [
       "(5.4582137560842, 0.08338069814000001)"
      ]
     },
     "execution_count": 5,
     "metadata": {},
     "output_type": "execute_result"
    }
   ],
   "source": [
    "w = 5\n",
    "b = 0\n",
    "\n",
    "w, b = gradient_descent(w, b, data)\n",
    "w, b"
   ]
  },
  {
   "cell_type": "code",
   "execution_count": 6,
   "id": "462ffff3",
   "metadata": {
    "scrolled": false
   },
   "outputs": [
    {
     "data": {
      "image/png": "[encoded data removed]",
      "text/plain": [
       "<Figure size 640x480 with 1 Axes>"
      ]
     },
     "metadata": {},
     "output_type": "display_data"
    }
   ],
   "source": [
    "#plotting the data\n",
    "m = len(data)\n",
    "y_hat = []\n",
    "for i in range(m):\n",
    "    y_hat.append((data.time[i] * w + b))\n",
    "\n",
    "plt.plot(data.time, y_hat, c='black')\n",
    "plt.scatter(data.time, data.score, marker='X', c='red')\n",
    "plt.title(\"Student's Score\")\n",
    "plt.xlabel('Study Time')\n",
    "plt.ylabel('Achieved Score')\n",
    "plt.show()"
   ]
  },
  {
   "cell_type": "code",
   "execution_count": 7,
   "id": "d8450f5e",
   "metadata": {},
   "outputs": [
    {
     "data": {
      "text/plain": [
       "'Student got 18.64130746882628'"
      ]
     },
     "execution_count": 7,
     "metadata": {},
     "output_type": "execute_result"
    }
   ],
   "source": [
    "#Predicted score of a student according to his time\n",
    "time_spent = 3.4\n",
    "got_score = w * time_spent + b\n",
    "f\"Student got {got_score}\""
   ]
  }
 ],
 "metadata": {
  "kernelspec": {
   "display_name": "Python 3 (ipykernel)",
   "language": "python",
   "name": "python3"
  },
  "language_info": {
   "codemirror_mode": {
    "name": "ipython",
    "version": 3
   },
   "file_extension": ".py",
   "mimetype": "text/x-python",
   "name": "python",
   "nbconvert_exporter": "python",
   "pygments_lexer": "ipython3",
   "version": "3.11.1"
  }
 },
 "nbformat": 4,
 "nbformat_minor": 5
}
